{
  "nbformat": 4,
  "nbformat_minor": 0,
  "metadata": {
    "kernelspec": {
      "display_name": "Python 3",
      "language": "python",
      "name": "python3"
    },
    "language_info": {
      "codemirror_mode": {
        "name": "ipython",
        "version": 3
      },
      "file_extension": ".py",
      "mimetype": "text/x-python",
      "name": "python",
      "nbconvert_exporter": "python",
      "pygments_lexer": "ipython3",
      "version": "3.7.4"
    },
    "latex_envs": {
      "LaTeX_envs_menu_present": true,
      "autoclose": false,
      "autocomplete": true,
      "bibliofile": "biblio.bib",
      "cite_by": "apalike",
      "current_citInitial": 1,
      "eqLabelWithNumbers": true,
      "eqNumInitial": 1,
      "hotkeys": {
        "equation": "Ctrl-E",
        "itemize": "Ctrl-I"
      },
      "labels_anchors": false,
      "latex_user_defs": false,
      "report_style_numbering": false,
      "user_envs_cfg": false
    },
    "nbTranslate": {
      "displayLangs": [
        "*"
      ],
      "hotkey": "alt-t",
      "langInMainMenu": true,
      "sourceLang": "en",
      "targetLang": "fr",
      "useGoogleTranslate": true
    },
    "toc": {
      "base_numbering": 1,
      "nav_menu": {},
      "number_sections": true,
      "sideBar": true,
      "skip_h1_title": true,
      "title_cell": "Table of Contents",
      "title_sidebar": "Contents",
      "toc_cell": false,
      "toc_position": {
        "height": "calc(100% - 180px)",
        "left": "10px",
        "top": "150px",
        "width": "362px"
      },
      "toc_section_display": true,
      "toc_window_display": false
    },
    "varInspector": {
      "cols": {
        "lenName": 16,
        "lenType": 16,
        "lenVar": 40
      },
      "kernels_config": {
        "python": {
          "delete_cmd_postfix": "",
          "delete_cmd_prefix": "del ",
          "library": "var_list.py",
          "varRefreshCmd": "print(var_dic_list())"
        },
        "r": {
          "delete_cmd_postfix": ") ",
          "delete_cmd_prefix": "rm(",
          "library": "var_list.r",
          "varRefreshCmd": "cat(var_dic_list()) "
        }
      },
      "types_to_exclude": [
        "module",
        "function",
        "builtin_function_or_method",
        "instance",
        "_Feature"
      ],
      "window_display": false
    },
    "colab": {
      "name": "Task 4 &6.ipynb",
      "provenance": []
    }
  },
  "cells": [
    {
      "cell_type": "markdown",
      "metadata": {
        "id": "Saq6owerXtxR",
        "colab_type": "text"
      },
      "source": [
        "---\n",
        "# S&P 500 Stock Analysis: Is Technology the Right Investment for the Future?"
      ]
    },
    {
      "cell_type": "markdown",
      "metadata": {
        "id": "lFjQB2KQXtxT",
        "colab_type": "text"
      },
      "source": [
        "---\n",
        "# Introduction"
      ]
    },
    {
      "cell_type": "markdown",
      "metadata": {
        "id": "EpdG5wU7XtxU",
        "colab_type": "text"
      },
      "source": [
        "The S&P 500 stock market index, maintained by S&P Dow Jones Indices, comprises 505 common stocks issued by 500 large-cap companies and traded on American exchanges, and covers about 80 percent of the American equity marekt by capitalization, i.e. S&P 500 is a stock market index that measures the stock performance of 500 large companies listed on stock exchanges in the United States. It is one of the most commonly followed equity indices, and many consider it to be one of the best representations of the U.S. stock market. The S&P 500 component stocks cover eleven (11) market sectors and a total of 128 sub industries. \n",
        "\n",
        "The objective of this project is to perform the U.S equity market/stocks analysis through the new technology: data science concepts, knowledge, and tools. The data analysis and calculation are based on Python software with modules: NumPy & Pandas, and matplotlib & seaborn libraries.\n",
        "\n",
        "This project consists of 6 parts.\n",
        "\n",
        "**feel free to modify**"
      ]
    },
    {
      "cell_type": "markdown",
      "metadata": {
        "id": "ApqhLoR-XtxV",
        "colab_type": "text"
      },
      "source": [
        "* Part 1 - S&P 500 stocks historical data collection and cleaning\n",
        "* Part 2 - Descriptive statistic analysis for S&P 500 stocks\n",
        "* Part 3 - Data analysis under stock/sector level\n",
        "* Part 4 - Coronavirus effect on S&P 500 stock prices\n",
        "* Part 5 - Stock price forecasting and prediction\n",
        "* Part 6 - Conclusion"
      ]
    },
    {
      "cell_type": "markdown",
      "metadata": {
        "id": "NgZG5O91XtxW",
        "colab_type": "text"
      },
      "source": [
        "Each part is provided in a separate file. It is recommended to follow the order of the files."
      ]
    },
    {
      "cell_type": "markdown",
      "metadata": {
        "id": "R948tIRtXtxW",
        "colab_type": "text"
      },
      "source": [
        "---\n",
        "# Part 1: S&P 500 Stocks Historical Data Collection and Cleaning"
      ]
    },
    {
      "cell_type": "markdown",
      "metadata": {
        "id": "3uwY_nlHXtxX",
        "colab_type": "text"
      },
      "source": [
        "#### Task 1:\n",
        "\n",
        "Import raw data;\n",
        "\n",
        "Identify missing values, anomalies and outliers (Data cleaning);\n",
        "\n",
        "Merge datasets and resolve mismatches;\n",
        "\n",
        "---"
      ]
    },
    {
      "cell_type": "code",
      "metadata": {
        "id": "IRxW-2xZXtxY",
        "colab_type": "code",
        "outputId": "48354227-c7ce-4a1b-85e2-fd195e3ae9a6",
        "colab": {
          "base_uri": "https://localhost:8080/",
          "height": 200
        }
      },
      "source": [
        "# Import and merge datasets\n",
        "\n",
        "import pandas as pd\n",
        "\n",
        "sp500 = pd.read_csv(\"https://raw.githubusercontent.com/ProjectTeam4/ProjectTeam4.github.io/master/stock%20data.csv\")\n",
        "stockReference = pd.read_csv(\"https://raw.githubusercontent.com/ProjectTeam4/ProjectTeam4.github.io/master/companies.csv\")\n",
        "\n",
        "fullDataset = pd.merge(sp500, stockReference, how=\"left\", left_on='Name', right_on='ticker')\n",
        "fullDataset = fullDataset[['date','close', 'Name', 'ticker', 'company name', 'sector']]\n",
        "fullDataset.head()"
      ],
      "execution_count": 1,
      "outputs": [
        {
          "output_type": "execute_result",
          "data": {
            "text/html": [
              "<div>\n",
              "<style scoped>\n",
              "    .dataframe tbody tr th:only-of-type {\n",
              "        vertical-align: middle;\n",
              "    }\n",
              "\n",
              "    .dataframe tbody tr th {\n",
              "        vertical-align: top;\n",
              "    }\n",
              "\n",
              "    .dataframe thead th {\n",
              "        text-align: right;\n",
              "    }\n",
              "</style>\n",
              "<table border=\"1\" class=\"dataframe\">\n",
              "  <thead>\n",
              "    <tr style=\"text-align: right;\">\n",
              "      <th></th>\n",
              "      <th>date</th>\n",
              "      <th>close</th>\n",
              "      <th>Name</th>\n",
              "      <th>ticker</th>\n",
              "      <th>company name</th>\n",
              "      <th>sector</th>\n",
              "    </tr>\n",
              "  </thead>\n",
              "  <tbody>\n",
              "    <tr>\n",
              "      <th>0</th>\n",
              "      <td>08-02-2013</td>\n",
              "      <td>14.75</td>\n",
              "      <td>AAL</td>\n",
              "      <td>AAL</td>\n",
              "      <td>American Airlines Group Inc.</td>\n",
              "      <td>Industrials</td>\n",
              "    </tr>\n",
              "    <tr>\n",
              "      <th>1</th>\n",
              "      <td>11-02-2013</td>\n",
              "      <td>14.46</td>\n",
              "      <td>AAL</td>\n",
              "      <td>AAL</td>\n",
              "      <td>American Airlines Group Inc.</td>\n",
              "      <td>Industrials</td>\n",
              "    </tr>\n",
              "    <tr>\n",
              "      <th>2</th>\n",
              "      <td>12-02-2013</td>\n",
              "      <td>14.27</td>\n",
              "      <td>AAL</td>\n",
              "      <td>AAL</td>\n",
              "      <td>American Airlines Group Inc.</td>\n",
              "      <td>Industrials</td>\n",
              "    </tr>\n",
              "    <tr>\n",
              "      <th>3</th>\n",
              "      <td>13-02-2013</td>\n",
              "      <td>14.66</td>\n",
              "      <td>AAL</td>\n",
              "      <td>AAL</td>\n",
              "      <td>American Airlines Group Inc.</td>\n",
              "      <td>Industrials</td>\n",
              "    </tr>\n",
              "    <tr>\n",
              "      <th>4</th>\n",
              "      <td>14-02-2013</td>\n",
              "      <td>13.99</td>\n",
              "      <td>AAL</td>\n",
              "      <td>AAL</td>\n",
              "      <td>American Airlines Group Inc.</td>\n",
              "      <td>Industrials</td>\n",
              "    </tr>\n",
              "  </tbody>\n",
              "</table>\n",
              "</div>"
            ],
            "text/plain": [
              "         date  close Name ticker                  company name       sector\n",
              "0  08-02-2013  14.75  AAL    AAL  American Airlines Group Inc.  Industrials\n",
              "1  11-02-2013  14.46  AAL    AAL  American Airlines Group Inc.  Industrials\n",
              "2  12-02-2013  14.27  AAL    AAL  American Airlines Group Inc.  Industrials\n",
              "3  13-02-2013  14.66  AAL    AAL  American Airlines Group Inc.  Industrials\n",
              "4  14-02-2013  13.99  AAL    AAL  American Airlines Group Inc.  Industrials"
            ]
          },
          "metadata": {
            "tags": []
          },
          "execution_count": 1
        }
      ]
    },
    {
      "cell_type": "code",
      "metadata": {
        "id": "6tSAN9UiXtxf",
        "colab_type": "code",
        "outputId": "799f1111-0127-44d6-c50e-63ced89c8793",
        "colab": {
          "base_uri": "https://localhost:8080/",
          "height": 88
        }
      },
      "source": [
        "# Identify Mismatches\n",
        "# Noticed that 21 stocks could not match to available reference information\n",
        "\n",
        "unmatchedData = fullDataset[fullDataset[\"ticker\"].isnull()]\n",
        "print(unmatchedData.Name.unique())\n",
        "print(unmatchedData.date.unique())"
      ],
      "execution_count": 2,
      "outputs": [
        {
          "output_type": "stream",
          "text": [
            "['AET' 'ANDV' 'CA' 'CBG' 'COL' 'CSRA' 'DPS' 'ESRX' 'EVHC' 'GGP' 'HCN'\n",
            " 'KORS' 'LUK' 'MON' 'PCLN' 'PX' 'SCG' 'SNI' 'TWX' 'WYN' 'XL']\n",
            "['08-02-2013' '11-02-2013' '12-02-2013' ... '05-02-2018' '06-02-2018'\n",
            " '07-02-2018']\n"
          ],
          "name": "stdout"
        }
      ]
    },
    {
      "cell_type": "code",
      "metadata": {
        "id": "Vrone2Z5Xtxi",
        "colab_type": "code",
        "outputId": "1a5351b7-da79-45fd-ab77-14cfbac9ee19",
        "colab": {
          "base_uri": "https://localhost:8080/",
          "height": 52
        }
      },
      "source": [
        "# Resolve mismatch issue\n",
        "# Manually looked up \"Names\" and appended to stock reference file\n",
        "\n",
        "stockReference_v2 = pd.read_csv(\"https://raw.githubusercontent.com/ProjectTeam4/ProjectTeam4.github.io/master/companies_updated.csv\")\n",
        "\n",
        "fullDataset_v2 = pd.merge(sp500, stockReference_v2, how=\"left\", left_on='Name', right_on='ticker')\n",
        "fullDataset_v2 = fullDataset_v2[['date','close', 'Name', 'ticker', 'company name', 'sector']]\n",
        "\n",
        "unmatchedData_v2 = fullDataset_v2[fullDataset_v2[\"ticker\"].isnull()]\n",
        "print(unmatchedData_v2.Name.unique())\n",
        "print(unmatchedData_v2.date.unique())"
      ],
      "execution_count": 3,
      "outputs": [
        {
          "output_type": "stream",
          "text": [
            "[]\n",
            "[]\n"
          ],
          "name": "stdout"
        }
      ]
    },
    {
      "cell_type": "code",
      "metadata": {
        "id": "PVzGri4GXtxl",
        "colab_type": "code",
        "outputId": "d5c4bd97-33e3-47b6-d6fc-ff27e378f826",
        "colab": {
          "base_uri": "https://localhost:8080/",
          "height": 441
        }
      },
      "source": [
        "# Identify Inconsistencies\n",
        "# Noticed that the list of stocks were captured based on date of data pull and does not populate historical information for\n",
        "# stocks that fell out of SP500 between the start date to last date\n",
        "\n",
        "countByDate = fullDataset_v2.groupby('date').count()\n",
        "countByDate.sort_values(by=['sector'], ascending=True)"
      ],
      "execution_count": 4,
      "outputs": [
        {
          "output_type": "execute_result",
          "data": {
            "text/html": [
              "<div>\n",
              "<style scoped>\n",
              "    .dataframe tbody tr th:only-of-type {\n",
              "        vertical-align: middle;\n",
              "    }\n",
              "\n",
              "    .dataframe tbody tr th {\n",
              "        vertical-align: top;\n",
              "    }\n",
              "\n",
              "    .dataframe thead th {\n",
              "        text-align: right;\n",
              "    }\n",
              "</style>\n",
              "<table border=\"1\" class=\"dataframe\">\n",
              "  <thead>\n",
              "    <tr style=\"text-align: right;\">\n",
              "      <th></th>\n",
              "      <th>close</th>\n",
              "      <th>Name</th>\n",
              "      <th>ticker</th>\n",
              "      <th>company name</th>\n",
              "      <th>sector</th>\n",
              "    </tr>\n",
              "    <tr>\n",
              "      <th>date</th>\n",
              "      <th></th>\n",
              "      <th></th>\n",
              "      <th></th>\n",
              "      <th></th>\n",
              "      <th></th>\n",
              "    </tr>\n",
              "  </thead>\n",
              "  <tbody>\n",
              "    <tr>\n",
              "      <th>26-04-2013</th>\n",
              "      <td>472</td>\n",
              "      <td>472</td>\n",
              "      <td>472</td>\n",
              "      <td>472</td>\n",
              "      <td>472</td>\n",
              "    </tr>\n",
              "    <tr>\n",
              "      <th>22-04-2013</th>\n",
              "      <td>476</td>\n",
              "      <td>476</td>\n",
              "      <td>476</td>\n",
              "      <td>476</td>\n",
              "      <td>476</td>\n",
              "    </tr>\n",
              "    <tr>\n",
              "      <th>02-05-2013</th>\n",
              "      <td>476</td>\n",
              "      <td>476</td>\n",
              "      <td>476</td>\n",
              "      <td>476</td>\n",
              "      <td>476</td>\n",
              "    </tr>\n",
              "    <tr>\n",
              "      <th>15-04-2013</th>\n",
              "      <td>476</td>\n",
              "      <td>476</td>\n",
              "      <td>476</td>\n",
              "      <td>476</td>\n",
              "      <td>476</td>\n",
              "    </tr>\n",
              "    <tr>\n",
              "      <th>04-03-2013</th>\n",
              "      <td>476</td>\n",
              "      <td>476</td>\n",
              "      <td>476</td>\n",
              "      <td>476</td>\n",
              "      <td>476</td>\n",
              "    </tr>\n",
              "    <tr>\n",
              "      <th>...</th>\n",
              "      <td>...</td>\n",
              "      <td>...</td>\n",
              "      <td>...</td>\n",
              "      <td>...</td>\n",
              "      <td>...</td>\n",
              "    </tr>\n",
              "    <tr>\n",
              "      <th>11-01-2018</th>\n",
              "      <td>505</td>\n",
              "      <td>505</td>\n",
              "      <td>505</td>\n",
              "      <td>505</td>\n",
              "      <td>505</td>\n",
              "    </tr>\n",
              "    <tr>\n",
              "      <th>29-01-2018</th>\n",
              "      <td>505</td>\n",
              "      <td>505</td>\n",
              "      <td>505</td>\n",
              "      <td>505</td>\n",
              "      <td>505</td>\n",
              "    </tr>\n",
              "    <tr>\n",
              "      <th>05-12-2017</th>\n",
              "      <td>505</td>\n",
              "      <td>505</td>\n",
              "      <td>505</td>\n",
              "      <td>505</td>\n",
              "      <td>505</td>\n",
              "    </tr>\n",
              "    <tr>\n",
              "      <th>20-12-2017</th>\n",
              "      <td>505</td>\n",
              "      <td>505</td>\n",
              "      <td>505</td>\n",
              "      <td>505</td>\n",
              "      <td>505</td>\n",
              "    </tr>\n",
              "    <tr>\n",
              "      <th>22-12-2017</th>\n",
              "      <td>505</td>\n",
              "      <td>505</td>\n",
              "      <td>505</td>\n",
              "      <td>505</td>\n",
              "      <td>505</td>\n",
              "    </tr>\n",
              "  </tbody>\n",
              "</table>\n",
              "<p>1259 rows × 5 columns</p>\n",
              "</div>"
            ],
            "text/plain": [
              "            close  Name  ticker  company name  sector\n",
              "date                                                 \n",
              "26-04-2013    472   472     472           472     472\n",
              "22-04-2013    476   476     476           476     476\n",
              "02-05-2013    476   476     476           476     476\n",
              "15-04-2013    476   476     476           476     476\n",
              "04-03-2013    476   476     476           476     476\n",
              "...           ...   ...     ...           ...     ...\n",
              "11-01-2018    505   505     505           505     505\n",
              "29-01-2018    505   505     505           505     505\n",
              "05-12-2017    505   505     505           505     505\n",
              "20-12-2017    505   505     505           505     505\n",
              "22-12-2017    505   505     505           505     505\n",
              "\n",
              "[1259 rows x 5 columns]"
            ]
          },
          "metadata": {
            "tags": []
          },
          "execution_count": 4
        }
      ]
    },
    {
      "cell_type": "code",
      "metadata": {
        "id": "O5Dsuy_VXtxo",
        "colab_type": "code",
        "colab": {}
      },
      "source": [
        "# Resolve inconsistency issue\n"
      ],
      "execution_count": 0,
      "outputs": []
    },
    {
      "cell_type": "code",
      "metadata": {
        "id": "iwMVP4A3Xtxs",
        "colab_type": "code",
        "outputId": "25021d1b-abc3-4c9f-aa11-c5b953e4832f",
        "colab": {
          "base_uri": "https://localhost:8080/",
          "height": 200
        }
      },
      "source": [
        "# Compile final dataset for analysis\n",
        "\n",
        "cleanDataset = fullDataset_v2[['date', 'close', 'ticker', 'company name', 'sector']]\n",
        "cleanDataset.head()"
      ],
      "execution_count": 5,
      "outputs": [
        {
          "output_type": "execute_result",
          "data": {
            "text/html": [
              "<div>\n",
              "<style scoped>\n",
              "    .dataframe tbody tr th:only-of-type {\n",
              "        vertical-align: middle;\n",
              "    }\n",
              "\n",
              "    .dataframe tbody tr th {\n",
              "        vertical-align: top;\n",
              "    }\n",
              "\n",
              "    .dataframe thead th {\n",
              "        text-align: right;\n",
              "    }\n",
              "</style>\n",
              "<table border=\"1\" class=\"dataframe\">\n",
              "  <thead>\n",
              "    <tr style=\"text-align: right;\">\n",
              "      <th></th>\n",
              "      <th>date</th>\n",
              "      <th>close</th>\n",
              "      <th>ticker</th>\n",
              "      <th>company name</th>\n",
              "      <th>sector</th>\n",
              "    </tr>\n",
              "  </thead>\n",
              "  <tbody>\n",
              "    <tr>\n",
              "      <th>0</th>\n",
              "      <td>08-02-2013</td>\n",
              "      <td>14.75</td>\n",
              "      <td>AAL</td>\n",
              "      <td>American Airlines Group Inc.</td>\n",
              "      <td>Industrials</td>\n",
              "    </tr>\n",
              "    <tr>\n",
              "      <th>1</th>\n",
              "      <td>11-02-2013</td>\n",
              "      <td>14.46</td>\n",
              "      <td>AAL</td>\n",
              "      <td>American Airlines Group Inc.</td>\n",
              "      <td>Industrials</td>\n",
              "    </tr>\n",
              "    <tr>\n",
              "      <th>2</th>\n",
              "      <td>12-02-2013</td>\n",
              "      <td>14.27</td>\n",
              "      <td>AAL</td>\n",
              "      <td>American Airlines Group Inc.</td>\n",
              "      <td>Industrials</td>\n",
              "    </tr>\n",
              "    <tr>\n",
              "      <th>3</th>\n",
              "      <td>13-02-2013</td>\n",
              "      <td>14.66</td>\n",
              "      <td>AAL</td>\n",
              "      <td>American Airlines Group Inc.</td>\n",
              "      <td>Industrials</td>\n",
              "    </tr>\n",
              "    <tr>\n",
              "      <th>4</th>\n",
              "      <td>14-02-2013</td>\n",
              "      <td>13.99</td>\n",
              "      <td>AAL</td>\n",
              "      <td>American Airlines Group Inc.</td>\n",
              "      <td>Industrials</td>\n",
              "    </tr>\n",
              "  </tbody>\n",
              "</table>\n",
              "</div>"
            ],
            "text/plain": [
              "         date  close ticker                  company name       sector\n",
              "0  08-02-2013  14.75    AAL  American Airlines Group Inc.  Industrials\n",
              "1  11-02-2013  14.46    AAL  American Airlines Group Inc.  Industrials\n",
              "2  12-02-2013  14.27    AAL  American Airlines Group Inc.  Industrials\n",
              "3  13-02-2013  14.66    AAL  American Airlines Group Inc.  Industrials\n",
              "4  14-02-2013  13.99    AAL  American Airlines Group Inc.  Industrials"
            ]
          },
          "metadata": {
            "tags": []
          },
          "execution_count": 5
        }
      ]
    },
    {
      "cell_type": "markdown",
      "metadata": {
        "id": "ABF-S-gHXtxv",
        "colab_type": "text"
      },
      "source": [
        "#### Conclusion:\n",
        "\n",
        "We found issues with data we have gathered. We filled in the gaps where we can and left data as is for things we cannot change \n",
        "with current resources\n"
      ]
    },
    {
      "cell_type": "markdown",
      "metadata": {
        "id": "aGtyaTM0Xtxw",
        "colab_type": "text"
      },
      "source": [
        "---\n",
        "# Part 2 - Descriptive Statistic Analysis for S&P 500 Stocks"
      ]
    },
    {
      "cell_type": "markdown",
      "metadata": {
        "id": "d8CN1jmNXtxw",
        "colab_type": "text"
      },
      "source": [
        "#### Task 2:\n",
        "\n",
        "Perform descriptive analysis;\n",
        "\n",
        "first question: how has the composition of stocks by industry changed over time?\n",
        "\n",
        "Calculate and graph stock composition by industry over time;"
      ]
    },
    {
      "cell_type": "markdown",
      "metadata": {
        "id": "BaOCMBRRXtxx",
        "colab_type": "text"
      },
      "source": [
        "### To be Filled:\n",
        "\n",
        "* **Comments:**\n",
        "\n",
        "* **Codes:**\n",
        "\n",
        "* **Conclusion:**"
      ]
    },
    {
      "cell_type": "code",
      "metadata": {
        "id": "EpZVsibuXtxx",
        "colab_type": "code",
        "colab": {}
      },
      "source": [
        "# grouping data by industry\n",
        "fullDataset_grouped = fullDataset.groupby('sector')"
      ],
      "execution_count": 0,
      "outputs": []
    },
    {
      "cell_type": "markdown",
      "metadata": {
        "id": "7_p745DRXtx0",
        "colab_type": "text"
      },
      "source": [
        "---\n",
        "# Part 3 - Data Analysis under Stock/Industry Level"
      ]
    },
    {
      "cell_type": "markdown",
      "metadata": {
        "id": "fGeJRZsgXtx0",
        "colab_type": "text"
      },
      "source": [
        "#### Task 3: \n",
        "\n",
        "Second question: What are the daily and monthly price changes at individual stock and industry level? (Sector Level) \n",
        "\n",
        "Calculate daily and monthly price changes by industry and determine distribution of standard deviation\n"
      ]
    },
    {
      "cell_type": "code",
      "metadata": {
        "id": "-ATtj7BiaYRG",
        "colab_type": "code",
        "colab": {}
      },
      "source": [
        ""
      ],
      "execution_count": 0,
      "outputs": []
    },
    {
      "cell_type": "markdown",
      "metadata": {
        "id": "nMF0HhcpaeyX",
        "colab_type": "text"
      },
      "source": [
        "\n",
        "#### Task 4: \n",
        "\n",
        "If we are to select a stock by sector at random, what are the chances that it has positive return?\n",
        "\n",
        "Calculate percentage of stocks with positive return by sector over time.\n",
        "\n",
        "Which sector should we invest in for the most return? \n"
      ]
    },
    {
      "cell_type": "code",
      "metadata": {
        "id": "f0mMtsx9qnka",
        "colab_type": "code",
        "colab": {}
      },
      "source": [
        "df4=cleanDataset\n",
        "#df4.groupby('ticker').count()"
      ],
      "execution_count": 0,
      "outputs": []
    },
    {
      "cell_type": "code",
      "metadata": {
        "id": "XikG61dQtnuj",
        "colab_type": "code",
        "colab": {}
      },
      "source": [
        "df4['prev_rate'] = df4.groupby('ticker')['close'].shift(1)"
      ],
      "execution_count": 0,
      "outputs": []
    },
    {
      "cell_type": "code",
      "metadata": {
        "id": "ZPlSi21AsQmO",
        "colab_type": "code",
        "colab": {}
      },
      "source": [
        "import numpy as np\n",
        "\n",
        "df4[\"return\"] = np.log( df4[\"close\"] / df4[\"prev_rate\"])\n",
        "df4.loc[df4['return'] <= 0, 'Positive_Flag'] = 0 \n",
        "df4.loc[df4['return'] > 0, 'Positive_Flag'] = 1\n",
        "df4.dropna(how='any', inplace=True) \n",
        "df4['Positive_Flag'] = df4.Positive_Flag.astype(int)\n"
      ],
      "execution_count": 0,
      "outputs": []
    },
    {
      "cell_type": "code",
      "metadata": {
        "id": "foT6kcBekSBM",
        "colab_type": "code",
        "outputId": "6b1c30dd-0879-4e8d-b8f3-03934326f8cc",
        "colab": {
          "base_uri": "https://localhost:8080/",
          "height": 412
        }
      },
      "source": [
        "df4.groupby('sector').mean().sort_values(by=['Positive_Flag'],ascending=False)"
      ],
      "execution_count": 10,
      "outputs": [
        {
          "output_type": "execute_result",
          "data": {
            "text/html": [
              "<div>\n",
              "<style scoped>\n",
              "    .dataframe tbody tr th:only-of-type {\n",
              "        vertical-align: middle;\n",
              "    }\n",
              "\n",
              "    .dataframe tbody tr th {\n",
              "        vertical-align: top;\n",
              "    }\n",
              "\n",
              "    .dataframe thead th {\n",
              "        text-align: right;\n",
              "    }\n",
              "</style>\n",
              "<table border=\"1\" class=\"dataframe\">\n",
              "  <thead>\n",
              "    <tr style=\"text-align: right;\">\n",
              "      <th></th>\n",
              "      <th>close</th>\n",
              "      <th>prev_rate</th>\n",
              "      <th>return</th>\n",
              "      <th>Positive_Flag</th>\n",
              "    </tr>\n",
              "    <tr>\n",
              "      <th>sector</th>\n",
              "      <th></th>\n",
              "      <th></th>\n",
              "      <th></th>\n",
              "      <th></th>\n",
              "    </tr>\n",
              "  </thead>\n",
              "  <tbody>\n",
              "    <tr>\n",
              "      <th>Technology</th>\n",
              "      <td>82.538647</td>\n",
              "      <td>82.481869</td>\n",
              "      <td>0.000674</td>\n",
              "      <td>0.530137</td>\n",
              "    </tr>\n",
              "    <tr>\n",
              "      <th>Utilities</th>\n",
              "      <td>52.690418</td>\n",
              "      <td>52.679533</td>\n",
              "      <td>0.000185</td>\n",
              "      <td>0.527177</td>\n",
              "    </tr>\n",
              "    <tr>\n",
              "      <th>Industrials</th>\n",
              "      <td>86.001293</td>\n",
              "      <td>85.950997</td>\n",
              "      <td>0.000536</td>\n",
              "      <td>0.526455</td>\n",
              "    </tr>\n",
              "    <tr>\n",
              "      <th>Financial Services</th>\n",
              "      <td>68.546437</td>\n",
              "      <td>68.508725</td>\n",
              "      <td>0.000540</td>\n",
              "      <td>0.525290</td>\n",
              "    </tr>\n",
              "    <tr>\n",
              "      <th>Healthcare</th>\n",
              "      <td>104.919422</td>\n",
              "      <td>104.859803</td>\n",
              "      <td>0.000571</td>\n",
              "      <td>0.523964</td>\n",
              "    </tr>\n",
              "    <tr>\n",
              "      <th>Real Estate</th>\n",
              "      <td>93.255158</td>\n",
              "      <td>93.238812</td>\n",
              "      <td>0.000133</td>\n",
              "      <td>0.523308</td>\n",
              "    </tr>\n",
              "    <tr>\n",
              "      <th>Consumer Defensive</th>\n",
              "      <td>68.337949</td>\n",
              "      <td>68.312652</td>\n",
              "      <td>0.000393</td>\n",
              "      <td>0.518624</td>\n",
              "    </tr>\n",
              "    <tr>\n",
              "      <th>Consumer Cyclical</th>\n",
              "      <td>83.418849</td>\n",
              "      <td>83.381439</td>\n",
              "      <td>0.000320</td>\n",
              "      <td>0.515772</td>\n",
              "    </tr>\n",
              "    <tr>\n",
              "      <th>Communication Services</th>\n",
              "      <td>189.402383</td>\n",
              "      <td>189.279075</td>\n",
              "      <td>0.000371</td>\n",
              "      <td>0.515609</td>\n",
              "    </tr>\n",
              "    <tr>\n",
              "      <th>Basic Materials</th>\n",
              "      <td>86.726218</td>\n",
              "      <td>86.692354</td>\n",
              "      <td>0.000258</td>\n",
              "      <td>0.511556</td>\n",
              "    </tr>\n",
              "    <tr>\n",
              "      <th>Energy</th>\n",
              "      <td>64.386463</td>\n",
              "      <td>64.388210</td>\n",
              "      <td>-0.000174</td>\n",
              "      <td>0.496999</td>\n",
              "    </tr>\n",
              "  </tbody>\n",
              "</table>\n",
              "</div>"
            ],
            "text/plain": [
              "                             close   prev_rate    return  Positive_Flag\n",
              "sector                                                                 \n",
              "Technology               82.538647   82.481869  0.000674       0.530137\n",
              "Utilities                52.690418   52.679533  0.000185       0.527177\n",
              "Industrials              86.001293   85.950997  0.000536       0.526455\n",
              "Financial Services       68.546437   68.508725  0.000540       0.525290\n",
              "Healthcare              104.919422  104.859803  0.000571       0.523964\n",
              "Real Estate              93.255158   93.238812  0.000133       0.523308\n",
              "Consumer Defensive       68.337949   68.312652  0.000393       0.518624\n",
              "Consumer Cyclical        83.418849   83.381439  0.000320       0.515772\n",
              "Communication Services  189.402383  189.279075  0.000371       0.515609\n",
              "Basic Materials          86.726218   86.692354  0.000258       0.511556\n",
              "Energy                   64.386463   64.388210 -0.000174       0.496999"
            ]
          },
          "metadata": {
            "tags": []
          },
          "execution_count": 10
        }
      ]
    },
    {
      "cell_type": "code",
      "metadata": {
        "id": "dwHizulCkTxe",
        "colab_type": "code",
        "outputId": "e787457d-3530-417a-b5af-dff8332980c4",
        "colab": {
          "base_uri": "https://localhost:8080/",
          "height": 412
        }
      },
      "source": [
        "df4.groupby('sector').mean().sort_values(by=['return'],ascending=False)"
      ],
      "execution_count": 11,
      "outputs": [
        {
          "output_type": "execute_result",
          "data": {
            "text/html": [
              "<div>\n",
              "<style scoped>\n",
              "    .dataframe tbody tr th:only-of-type {\n",
              "        vertical-align: middle;\n",
              "    }\n",
              "\n",
              "    .dataframe tbody tr th {\n",
              "        vertical-align: top;\n",
              "    }\n",
              "\n",
              "    .dataframe thead th {\n",
              "        text-align: right;\n",
              "    }\n",
              "</style>\n",
              "<table border=\"1\" class=\"dataframe\">\n",
              "  <thead>\n",
              "    <tr style=\"text-align: right;\">\n",
              "      <th></th>\n",
              "      <th>close</th>\n",
              "      <th>prev_rate</th>\n",
              "      <th>return</th>\n",
              "      <th>Positive_Flag</th>\n",
              "    </tr>\n",
              "    <tr>\n",
              "      <th>sector</th>\n",
              "      <th></th>\n",
              "      <th></th>\n",
              "      <th></th>\n",
              "      <th></th>\n",
              "    </tr>\n",
              "  </thead>\n",
              "  <tbody>\n",
              "    <tr>\n",
              "      <th>Technology</th>\n",
              "      <td>82.538647</td>\n",
              "      <td>82.481869</td>\n",
              "      <td>0.000674</td>\n",
              "      <td>0.530137</td>\n",
              "    </tr>\n",
              "    <tr>\n",
              "      <th>Healthcare</th>\n",
              "      <td>104.919422</td>\n",
              "      <td>104.859803</td>\n",
              "      <td>0.000571</td>\n",
              "      <td>0.523964</td>\n",
              "    </tr>\n",
              "    <tr>\n",
              "      <th>Financial Services</th>\n",
              "      <td>68.546437</td>\n",
              "      <td>68.508725</td>\n",
              "      <td>0.000540</td>\n",
              "      <td>0.525290</td>\n",
              "    </tr>\n",
              "    <tr>\n",
              "      <th>Industrials</th>\n",
              "      <td>86.001293</td>\n",
              "      <td>85.950997</td>\n",
              "      <td>0.000536</td>\n",
              "      <td>0.526455</td>\n",
              "    </tr>\n",
              "    <tr>\n",
              "      <th>Consumer Defensive</th>\n",
              "      <td>68.337949</td>\n",
              "      <td>68.312652</td>\n",
              "      <td>0.000393</td>\n",
              "      <td>0.518624</td>\n",
              "    </tr>\n",
              "    <tr>\n",
              "      <th>Communication Services</th>\n",
              "      <td>189.402383</td>\n",
              "      <td>189.279075</td>\n",
              "      <td>0.000371</td>\n",
              "      <td>0.515609</td>\n",
              "    </tr>\n",
              "    <tr>\n",
              "      <th>Consumer Cyclical</th>\n",
              "      <td>83.418849</td>\n",
              "      <td>83.381439</td>\n",
              "      <td>0.000320</td>\n",
              "      <td>0.515772</td>\n",
              "    </tr>\n",
              "    <tr>\n",
              "      <th>Basic Materials</th>\n",
              "      <td>86.726218</td>\n",
              "      <td>86.692354</td>\n",
              "      <td>0.000258</td>\n",
              "      <td>0.511556</td>\n",
              "    </tr>\n",
              "    <tr>\n",
              "      <th>Utilities</th>\n",
              "      <td>52.690418</td>\n",
              "      <td>52.679533</td>\n",
              "      <td>0.000185</td>\n",
              "      <td>0.527177</td>\n",
              "    </tr>\n",
              "    <tr>\n",
              "      <th>Real Estate</th>\n",
              "      <td>93.255158</td>\n",
              "      <td>93.238812</td>\n",
              "      <td>0.000133</td>\n",
              "      <td>0.523308</td>\n",
              "    </tr>\n",
              "    <tr>\n",
              "      <th>Energy</th>\n",
              "      <td>64.386463</td>\n",
              "      <td>64.388210</td>\n",
              "      <td>-0.000174</td>\n",
              "      <td>0.496999</td>\n",
              "    </tr>\n",
              "  </tbody>\n",
              "</table>\n",
              "</div>"
            ],
            "text/plain": [
              "                             close   prev_rate    return  Positive_Flag\n",
              "sector                                                                 \n",
              "Technology               82.538647   82.481869  0.000674       0.530137\n",
              "Healthcare              104.919422  104.859803  0.000571       0.523964\n",
              "Financial Services       68.546437   68.508725  0.000540       0.525290\n",
              "Industrials              86.001293   85.950997  0.000536       0.526455\n",
              "Consumer Defensive       68.337949   68.312652  0.000393       0.518624\n",
              "Communication Services  189.402383  189.279075  0.000371       0.515609\n",
              "Consumer Cyclical        83.418849   83.381439  0.000320       0.515772\n",
              "Basic Materials          86.726218   86.692354  0.000258       0.511556\n",
              "Utilities                52.690418   52.679533  0.000185       0.527177\n",
              "Real Estate              93.255158   93.238812  0.000133       0.523308\n",
              "Energy                   64.386463   64.388210 -0.000174       0.496999"
            ]
          },
          "metadata": {
            "tags": []
          },
          "execution_count": 11
        }
      ]
    },
    {
      "cell_type": "code",
      "metadata": {
        "id": "Sk-aSbfYzB1M",
        "colab_type": "code",
        "outputId": "d911125b-ad10-4f4e-c992-a8cec642232b",
        "colab": {
          "base_uri": "https://localhost:8080/",
          "height": 441
        }
      },
      "source": [
        "dfr=df4.groupby(['date','sector']).mean().sort_values(by=['date'],ascending=True)\n",
        "dfr"
      ],
      "execution_count": 12,
      "outputs": [
        {
          "output_type": "execute_result",
          "data": {
            "text/html": [
              "<div>\n",
              "<style scoped>\n",
              "    .dataframe tbody tr th:only-of-type {\n",
              "        vertical-align: middle;\n",
              "    }\n",
              "\n",
              "    .dataframe tbody tr th {\n",
              "        vertical-align: top;\n",
              "    }\n",
              "\n",
              "    .dataframe thead th {\n",
              "        text-align: right;\n",
              "    }\n",
              "</style>\n",
              "<table border=\"1\" class=\"dataframe\">\n",
              "  <thead>\n",
              "    <tr style=\"text-align: right;\">\n",
              "      <th></th>\n",
              "      <th></th>\n",
              "      <th>close</th>\n",
              "      <th>prev_rate</th>\n",
              "      <th>return</th>\n",
              "      <th>Positive_Flag</th>\n",
              "    </tr>\n",
              "    <tr>\n",
              "      <th>date</th>\n",
              "      <th>sector</th>\n",
              "      <th></th>\n",
              "      <th></th>\n",
              "      <th></th>\n",
              "      <th></th>\n",
              "    </tr>\n",
              "  </thead>\n",
              "  <tbody>\n",
              "    <tr>\n",
              "      <th rowspan=\"5\" valign=\"top\">01-02-2016</th>\n",
              "      <th>Basic Materials</th>\n",
              "      <td>75.311000</td>\n",
              "      <td>75.199000</td>\n",
              "      <td>0.003732</td>\n",
              "      <td>0.500000</td>\n",
              "    </tr>\n",
              "    <tr>\n",
              "      <th>Communication Services</th>\n",
              "      <td>161.357727</td>\n",
              "      <td>158.994091</td>\n",
              "      <td>0.008686</td>\n",
              "      <td>0.727273</td>\n",
              "    </tr>\n",
              "    <tr>\n",
              "      <th>Consumer Cyclical</th>\n",
              "      <td>82.687388</td>\n",
              "      <td>82.165630</td>\n",
              "      <td>0.005270</td>\n",
              "      <td>0.688312</td>\n",
              "    </tr>\n",
              "    <tr>\n",
              "      <th>Consumer Defensive</th>\n",
              "      <td>73.705541</td>\n",
              "      <td>73.202568</td>\n",
              "      <td>0.007383</td>\n",
              "      <td>0.756757</td>\n",
              "    </tr>\n",
              "    <tr>\n",
              "      <th>Energy</th>\n",
              "      <td>48.753226</td>\n",
              "      <td>49.814194</td>\n",
              "      <td>-0.024055</td>\n",
              "      <td>0.129032</td>\n",
              "    </tr>\n",
              "    <tr>\n",
              "      <th>...</th>\n",
              "      <th>...</th>\n",
              "      <td>...</td>\n",
              "      <td>...</td>\n",
              "      <td>...</td>\n",
              "      <td>...</td>\n",
              "    </tr>\n",
              "    <tr>\n",
              "      <th rowspan=\"5\" valign=\"top\">31-12-2015</th>\n",
              "      <th>Financial Services</th>\n",
              "      <td>65.998000</td>\n",
              "      <td>66.578324</td>\n",
              "      <td>-0.008389</td>\n",
              "      <td>0.040541</td>\n",
              "    </tr>\n",
              "    <tr>\n",
              "      <th>Healthcare</th>\n",
              "      <td>114.741387</td>\n",
              "      <td>115.656580</td>\n",
              "      <td>-0.008154</td>\n",
              "      <td>0.050000</td>\n",
              "    </tr>\n",
              "    <tr>\n",
              "      <th>Industrials</th>\n",
              "      <td>81.411912</td>\n",
              "      <td>82.125726</td>\n",
              "      <td>-0.009234</td>\n",
              "      <td>0.069444</td>\n",
              "    </tr>\n",
              "    <tr>\n",
              "      <th>Real Estate</th>\n",
              "      <td>101.775000</td>\n",
              "      <td>102.695769</td>\n",
              "      <td>-0.009765</td>\n",
              "      <td>0.000000</td>\n",
              "    </tr>\n",
              "    <tr>\n",
              "      <th>Utilities</th>\n",
              "      <td>49.724464</td>\n",
              "      <td>50.319464</td>\n",
              "      <td>-0.008921</td>\n",
              "      <td>0.142857</td>\n",
              "    </tr>\n",
              "  </tbody>\n",
              "</table>\n",
              "<p>13838 rows × 4 columns</p>\n",
              "</div>"
            ],
            "text/plain": [
              "                                        close  ...  Positive_Flag\n",
              "date       sector                              ...               \n",
              "01-02-2016 Basic Materials          75.311000  ...       0.500000\n",
              "           Communication Services  161.357727  ...       0.727273\n",
              "           Consumer Cyclical        82.687388  ...       0.688312\n",
              "           Consumer Defensive       73.705541  ...       0.756757\n",
              "           Energy                   48.753226  ...       0.129032\n",
              "...                                       ...  ...            ...\n",
              "31-12-2015 Financial Services       65.998000  ...       0.040541\n",
              "           Healthcare              114.741387  ...       0.050000\n",
              "           Industrials              81.411912  ...       0.069444\n",
              "           Real Estate             101.775000  ...       0.000000\n",
              "           Utilities                49.724464  ...       0.142857\n",
              "\n",
              "[13838 rows x 4 columns]"
            ]
          },
          "metadata": {
            "tags": []
          },
          "execution_count": 12
        }
      ]
    },
    {
      "cell_type": "code",
      "metadata": {
        "id": "c0CEIhcJQxl5",
        "colab_type": "code",
        "colab": {}
      },
      "source": [
        "dfr_2=dfr.reset_index()\n",
        "dfr_2['date'] = pd.to_datetime(dfr_2['date'])\n",
        "dfr_2['Month_Year'] = pd.to_datetime(dfr_2['date'], format='%m-%Y').dt.strftime('%m-%Y')\n",
        "dfr_2['Month_Year'] = pd.to_datetime(dfr_2['Month_Year'])"
      ],
      "execution_count": 0,
      "outputs": []
    },
    {
      "cell_type": "code",
      "metadata": {
        "id": "56ut2cc7x9Hf",
        "colab_type": "code",
        "outputId": "3227aa1f-8ebe-4ee1-974d-35805b245c65",
        "colab": {
          "base_uri": "https://localhost:8080/",
          "height": 498
        }
      },
      "source": [
        "import matplotlib.pyplot as plt\n",
        "dfr_2.pivot_table('Positive_Flag', 'Month_Year', 'sector', aggfunc='mean').plot(\n",
        "          kind='line', marker='o', xticks=dfr_2.Month_Year.unique()).legend(loc=3, prop={'size': 8})\n",
        "plt.gcf().set_size_inches(18, 8)\n"
      ],
      "execution_count": 14,
      "outputs": [
        {
          "output_type": "display_data",
          "data": {
            "image/png": "[encoded data removed]",
            "text/plain": [
              "<Figure size 1296x576 with 1 Axes>"
            ]
          },
          "metadata": {
            "tags": [],
            "needs_background": "light"
          }
        }
      ]
    },
    {
      "cell_type": "markdown",
      "metadata": {
        "id": "HM9wlKkujpLA",
        "colab_type": "text"
      },
      "source": [
        "**Conclusion:**\n",
        "\n",
        "If we are to select a stock by sector at random, the chance we got a positive return stock is around 49.70% to 53.01% .\n",
        "\n",
        "We may invest in sector Technology for the most possible better return. "
      ]
    },
    {
      "cell_type": "markdown",
      "metadata": {
        "id": "yG6uXuOxhR4_",
        "colab_type": "text"
      },
      "source": [
        "(2) If we pick the top 5 expensive stock in this sector, what is the monthly return over the period for these 5 stocks? \n",
        "\n",
        "Is there any Seasonality for the monthend close price? \n",
        "\n",
        "Is there autocorrelation of the monthend close prices of each of the 5 stocks? \n",
        "\n",
        "Visualize the correlation between the returns of all pairs of stocks.\n",
        "\n",
        "\n"
      ]
    },
    {
      "cell_type": "code",
      "metadata": {
        "id": "RjbKYOyWkvYj",
        "colab_type": "code",
        "outputId": "8fb19624-811b-47ed-e479-d23df54aa317",
        "colab": {
          "base_uri": "https://localhost:8080/",
          "height": 248
        }
      },
      "source": [
        "df4.loc[df4['sector'] == 'Technology'].groupby('ticker')['close'].max().sort_values(ascending=False)\n"
      ],
      "execution_count": 15,
      "outputs": [
        {
          "output_type": "execute_result",
          "data": {
            "text/plain": [
              "ticker\n",
              "GOOGL    1187.56\n",
              "GOOG     1175.84\n",
              "AVGO      284.62\n",
              "AYI       279.15\n",
              "NVDA      246.85\n",
              "          ...   \n",
              "CSRA       33.69\n",
              "JNPR       32.23\n",
              "HPE        24.78\n",
              "HPQ        23.91\n",
              "AMD        15.20\n",
              "Name: close, Length: 61, dtype: float64"
            ]
          },
          "metadata": {
            "tags": []
          },
          "execution_count": 15
        }
      ]
    },
    {
      "cell_type": "code",
      "metadata": {
        "id": "e44puQH_mx5g",
        "colab_type": "code",
        "outputId": "4128389d-407a-47ff-9138-3b1ece3ccd4b",
        "colab": {
          "base_uri": "https://localhost:8080/",
          "height": 411
        }
      },
      "source": [
        "df4"
      ],
      "execution_count": 16,
      "outputs": [
        {
          "output_type": "execute_result",
          "data": {
            "text/html": [
              "<div>\n",
              "<style scoped>\n",
              "    .dataframe tbody tr th:only-of-type {\n",
              "        vertical-align: middle;\n",
              "    }\n",
              "\n",
              "    .dataframe tbody tr th {\n",
              "        vertical-align: top;\n",
              "    }\n",
              "\n",
              "    .dataframe thead th {\n",
              "        text-align: right;\n",
              "    }\n",
              "</style>\n",
              "<table border=\"1\" class=\"dataframe\">\n",
              "  <thead>\n",
              "    <tr style=\"text-align: right;\">\n",
              "      <th></th>\n",
              "      <th>date</th>\n",
              "      <th>close</th>\n",
              "      <th>ticker</th>\n",
              "      <th>company name</th>\n",
              "      <th>sector</th>\n",
              "      <th>prev_rate</th>\n",
              "      <th>return</th>\n",
              "      <th>Positive_Flag</th>\n",
              "    </tr>\n",
              "  </thead>\n",
              "  <tbody>\n",
              "    <tr>\n",
              "      <th>1</th>\n",
              "      <td>11-02-2013</td>\n",
              "      <td>14.46</td>\n",
              "      <td>AAL</td>\n",
              "      <td>American Airlines Group Inc.</td>\n",
              "      <td>Industrials</td>\n",
              "      <td>14.75</td>\n",
              "      <td>-0.019857</td>\n",
              "      <td>0</td>\n",
              "    </tr>\n",
              "    <tr>\n",
              "      <th>2</th>\n",
              "      <td>12-02-2013</td>\n",
              "      <td>14.27</td>\n",
              "      <td>AAL</td>\n",
              "      <td>American Airlines Group Inc.</td>\n",
              "      <td>Industrials</td>\n",
              "      <td>14.46</td>\n",
              "      <td>-0.013227</td>\n",
              "      <td>0</td>\n",
              "    </tr>\n",
              "    <tr>\n",
              "      <th>3</th>\n",
              "      <td>13-02-2013</td>\n",
              "      <td>14.66</td>\n",
              "      <td>AAL</td>\n",
              "      <td>American Airlines Group Inc.</td>\n",
              "      <td>Industrials</td>\n",
              "      <td>14.27</td>\n",
              "      <td>0.026963</td>\n",
              "      <td>1</td>\n",
              "    </tr>\n",
              "    <tr>\n",
              "      <th>4</th>\n",
              "      <td>14-02-2013</td>\n",
              "      <td>13.99</td>\n",
              "      <td>AAL</td>\n",
              "      <td>American Airlines Group Inc.</td>\n",
              "      <td>Industrials</td>\n",
              "      <td>14.66</td>\n",
              "      <td>-0.046780</td>\n",
              "      <td>0</td>\n",
              "    </tr>\n",
              "    <tr>\n",
              "      <th>5</th>\n",
              "      <td>15-02-2013</td>\n",
              "      <td>14.50</td>\n",
              "      <td>AAL</td>\n",
              "      <td>American Airlines Group Inc.</td>\n",
              "      <td>Industrials</td>\n",
              "      <td>13.99</td>\n",
              "      <td>0.035806</td>\n",
              "      <td>1</td>\n",
              "    </tr>\n",
              "    <tr>\n",
              "      <th>...</th>\n",
              "      <td>...</td>\n",
              "      <td>...</td>\n",
              "      <td>...</td>\n",
              "      <td>...</td>\n",
              "      <td>...</td>\n",
              "      <td>...</td>\n",
              "      <td>...</td>\n",
              "      <td>...</td>\n",
              "    </tr>\n",
              "    <tr>\n",
              "      <th>619035</th>\n",
              "      <td>01-02-2018</td>\n",
              "      <td>77.82</td>\n",
              "      <td>ZTS</td>\n",
              "      <td>Zoetis Inc. Class A</td>\n",
              "      <td>Healthcare</td>\n",
              "      <td>76.73</td>\n",
              "      <td>0.014106</td>\n",
              "      <td>1</td>\n",
              "    </tr>\n",
              "    <tr>\n",
              "      <th>619036</th>\n",
              "      <td>02-02-2018</td>\n",
              "      <td>76.78</td>\n",
              "      <td>ZTS</td>\n",
              "      <td>Zoetis Inc. Class A</td>\n",
              "      <td>Healthcare</td>\n",
              "      <td>77.82</td>\n",
              "      <td>-0.013454</td>\n",
              "      <td>0</td>\n",
              "    </tr>\n",
              "    <tr>\n",
              "      <th>619037</th>\n",
              "      <td>05-02-2018</td>\n",
              "      <td>73.83</td>\n",
              "      <td>ZTS</td>\n",
              "      <td>Zoetis Inc. Class A</td>\n",
              "      <td>Healthcare</td>\n",
              "      <td>76.78</td>\n",
              "      <td>-0.039179</td>\n",
              "      <td>0</td>\n",
              "    </tr>\n",
              "    <tr>\n",
              "      <th>619038</th>\n",
              "      <td>06-02-2018</td>\n",
              "      <td>73.27</td>\n",
              "      <td>ZTS</td>\n",
              "      <td>Zoetis Inc. Class A</td>\n",
              "      <td>Healthcare</td>\n",
              "      <td>73.83</td>\n",
              "      <td>-0.007614</td>\n",
              "      <td>0</td>\n",
              "    </tr>\n",
              "    <tr>\n",
              "      <th>619039</th>\n",
              "      <td>07-02-2018</td>\n",
              "      <td>73.86</td>\n",
              "      <td>ZTS</td>\n",
              "      <td>Zoetis Inc. Class A</td>\n",
              "      <td>Healthcare</td>\n",
              "      <td>73.27</td>\n",
              "      <td>0.008020</td>\n",
              "      <td>1</td>\n",
              "    </tr>\n",
              "  </tbody>\n",
              "</table>\n",
              "<p>618535 rows × 8 columns</p>\n",
              "</div>"
            ],
            "text/plain": [
              "              date  close ticker  ... prev_rate    return  Positive_Flag\n",
              "1       11-02-2013  14.46    AAL  ...     14.75 -0.019857              0\n",
              "2       12-02-2013  14.27    AAL  ...     14.46 -0.013227              0\n",
              "3       13-02-2013  14.66    AAL  ...     14.27  0.026963              1\n",
              "4       14-02-2013  13.99    AAL  ...     14.66 -0.046780              0\n",
              "5       15-02-2013  14.50    AAL  ...     13.99  0.035806              1\n",
              "...            ...    ...    ...  ...       ...       ...            ...\n",
              "619035  01-02-2018  77.82    ZTS  ...     76.73  0.014106              1\n",
              "619036  02-02-2018  76.78    ZTS  ...     77.82 -0.013454              0\n",
              "619037  05-02-2018  73.83    ZTS  ...     76.78 -0.039179              0\n",
              "619038  06-02-2018  73.27    ZTS  ...     73.83 -0.007614              0\n",
              "619039  07-02-2018  73.86    ZTS  ...     73.27  0.008020              1\n",
              "\n",
              "[618535 rows x 8 columns]"
            ]
          },
          "metadata": {
            "tags": []
          },
          "execution_count": 16
        }
      ]
    },
    {
      "cell_type": "code",
      "metadata": {
        "id": "B2OYnYA9k2Qn",
        "colab_type": "code",
        "outputId": "4f6303e1-10af-4806-f2df-7ce22743e907",
        "colab": {
          "base_uri": "https://localhost:8080/",
          "height": 124
        }
      },
      "source": [
        "# We will chose 'GOOGL','GOOG','AVGO','AYI' and 'NVDA' for further analysis\n",
        "dfs = df4[['date','close', 'ticker']]\n",
        "stocks = ['GOOGL','GOOG','AVGO','AYI','NVDA'] \n",
        "dfs_5 = dfs.loc[dfs['ticker'].isin(stocks)]\n",
        "dfs_5['date'] = pd.to_datetime(dfs_5['date'])\n",
        "dfs_5.set_index('date', inplace=True)\n",
        "\n",
        "GOOGL = dfs_5.loc[dfs_5['ticker']=='GOOGL']['close']\n",
        "GOOG = dfs_5.loc[dfs_5['ticker']=='GOOG']['close']\n",
        "AVGO = dfs_5.loc[dfs_5['ticker']=='AVGO']['close']\n",
        "AYI = dfs_5.loc[dfs_5['ticker']=='AYI']['close']\n",
        "NVDA = dfs_5.loc[dfs_5['ticker']=='NVDA']['close']"
      ],
      "execution_count": 17,
      "outputs": [
        {
          "output_type": "stream",
          "text": [
            "/usr/local/lib/python3.6/dist-packages/ipykernel_launcher.py:4: SettingWithCopyWarning: \n",
            "A value is trying to be set on a copy of a slice from a DataFrame.\n",
            "Try using .loc[row_indexer,col_indexer] = value instead\n",
            "\n",
            "See the caveats in the documentation: https://pandas.pydata.org/pandas-docs/stable/user_guide/indexing.html#returning-a-view-versus-a-copy\n",
            "  after removing the cwd from sys.path.\n"
          ],
          "name": "stderr"
        }
      ]
    },
    {
      "cell_type": "code",
      "metadata": {
        "id": "oqorfYoewgT1",
        "colab_type": "code",
        "outputId": "3e78d0bd-b33f-4436-8f75-e56b5d858e6b",
        "colab": {
          "base_uri": "https://localhost:8080/",
          "height": 439
        }
      },
      "source": [
        "from pandas.plotting import autocorrelation_plot\n",
        "\n",
        "GOOGL_monthend = GOOGL.resample('BM').last() \n",
        "\n",
        "np.set_printoptions(precision=4, suppress=True)\n",
        "plt.rc('figure', figsize=(12, 6))\n",
        "\n",
        "plt.figure()\n",
        "autocorrelation_plot(GOOGL_monthend)\n",
        "plt.title('GOOGL Autocorrelation')\n",
        "plt.figure()"
      ],
      "execution_count": 18,
      "outputs": [
        {
          "output_type": "execute_result",
          "data": {
            "text/plain": [
              "<Figure size 864x432 with 0 Axes>"
            ]
          },
          "metadata": {
            "tags": []
          },
          "execution_count": 18
        },
        {
          "output_type": "display_data",
          "data": {
            "image/png": "[encoded data removed]",
            "text/plain": [
              "<Figure size 864x432 with 1 Axes>"
            ]
          },
          "metadata": {
            "tags": [],
            "needs_background": "light"
          }
        },
        {
          "output_type": "display_data",
          "data": {
            "text/plain": [
              "<Figure size 864x432 with 0 Axes>"
            ]
          },
          "metadata": {
            "tags": []
          }
        }
      ]
    },
    {
      "cell_type": "code",
      "metadata": {
        "id": "bqTDP476zNaI",
        "colab_type": "code",
        "outputId": "3561fe27-0935-45d5-ac73-40264fb2232f",
        "colab": {
          "base_uri": "https://localhost:8080/",
          "height": 424
        }
      },
      "source": [
        "# Choose 16 month \n",
        "aLagPlot = pd.plotting.lag_plot(series=GOOGL_monthend, lag=16)\n",
        "aLagPlot.set_ylabel(\"Value at ${t+1}$\")\n",
        "aLagPlot.set_xlabel(\"Value at $t$\")\n",
        "aLagPlot.set_title(\"A Lag Plot with 1 period of lag\")"
      ],
      "execution_count": 19,
      "outputs": [
        {
          "output_type": "execute_result",
          "data": {
            "text/plain": [
              "Text(0.5, 1.0, 'A Lag Plot with 1 period of lag')"
            ]
          },
          "metadata": {
            "tags": []
          },
          "execution_count": 19
        },
        {
          "output_type": "display_data",
          "data": {
            "image/png": "[encoded data removed]",
            "text/plain": [
              "<Figure size 864x432 with 1 Axes>"
            ]
          },
          "metadata": {
            "tags": [],
            "needs_background": "light"
          }
        }
      ]
    },
    {
      "cell_type": "markdown",
      "metadata": {
        "id": "DzAKegvCzkBD",
        "colab_type": "text"
      },
      "source": [
        "After 16-17 month, the correlation dropped uner 30% for GOOGL and there is no seasonality."
      ]
    },
    {
      "cell_type": "code",
      "metadata": {
        "id": "c9o9CkAwzj03",
        "colab_type": "code",
        "outputId": "eb28f330-f7eb-493d-9c75-41a1f7b5e32f",
        "colab": {
          "base_uri": "https://localhost:8080/",
          "height": 439
        }
      },
      "source": [
        "GOOG_monthend = GOOG.resample('BM').last() \n",
        "\n",
        "np.set_printoptions(precision=4, suppress=True)\n",
        "plt.rc('figure', figsize=(12, 6))\n",
        "\n",
        "plt.figure()\n",
        "autocorrelation_plot(GOOG_monthend)\n",
        "plt.title('GOOG Autocorrelation')\n",
        "plt.figure()"
      ],
      "execution_count": 20,
      "outputs": [
        {
          "output_type": "execute_result",
          "data": {
            "text/plain": [
              "<Figure size 864x432 with 0 Axes>"
            ]
          },
          "metadata": {
            "tags": []
          },
          "execution_count": 20
        },
        {
          "output_type": "display_data",
          "data": {
            "image/png": "[encoded data removed]",
            "text/plain": [
              "<Figure size 864x432 with 1 Axes>"
            ]
          },
          "metadata": {
            "tags": [],
            "needs_background": "light"
          }
        },
        {
          "output_type": "display_data",
          "data": {
            "text/plain": [
              "<Figure size 864x432 with 0 Axes>"
            ]
          },
          "metadata": {
            "tags": []
          }
        }
      ]
    },
    {
      "cell_type": "code",
      "metadata": {
        "id": "afLTPRB-2PCf",
        "colab_type": "code",
        "outputId": "89884670-9b94-42cf-dfb5-adf5b6a56c9d",
        "colab": {
          "base_uri": "https://localhost:8080/",
          "height": 439
        }
      },
      "source": [
        "AVGO_monthend = AVGO.resample('BM').last() \n",
        "\n",
        "np.set_printoptions(precision=4, suppress=True)\n",
        "plt.rc('figure', figsize=(12, 6))\n",
        "\n",
        "plt.figure()\n",
        "autocorrelation_plot(AVGO_monthend)\n",
        "plt.title('AVGO Autocorrelation')\n",
        "plt.figure()"
      ],
      "execution_count": 21,
      "outputs": [
        {
          "output_type": "execute_result",
          "data": {
            "text/plain": [
              "<Figure size 864x432 with 0 Axes>"
            ]
          },
          "metadata": {
            "tags": []
          },
          "execution_count": 21
        },
        {
          "output_type": "display_data",
          "data": {
            "image/png": "[encoded data removed]",
            "text/plain": [
              "<Figure size 864x432 with 1 Axes>"
            ]
          },
          "metadata": {
            "tags": [],
            "needs_background": "light"
          }
        },
        {
          "output_type": "display_data",
          "data": {
            "text/plain": [
              "<Figure size 864x432 with 0 Axes>"
            ]
          },
          "metadata": {
            "tags": []
          }
        }
      ]
    },
    {
      "cell_type": "code",
      "metadata": {
        "id": "Mf4M-PUO2V6v",
        "colab_type": "code",
        "outputId": "b4366496-4e99-4a7d-9d89-0ab5c16ac957",
        "colab": {
          "base_uri": "https://localhost:8080/",
          "height": 439
        }
      },
      "source": [
        "AYI_monthend = AYI.resample('BM').last() \n",
        "\n",
        "np.set_printoptions(precision=4, suppress=True)\n",
        "plt.rc('figure', figsize=(12, 6))\n",
        "\n",
        "plt.figure()\n",
        "autocorrelation_plot(AYI_monthend)\n",
        "plt.title('AYI Autocorrelation')\n",
        "plt.figure()"
      ],
      "execution_count": 22,
      "outputs": [
        {
          "output_type": "execute_result",
          "data": {
            "text/plain": [
              "<Figure size 864x432 with 0 Axes>"
            ]
          },
          "metadata": {
            "tags": []
          },
          "execution_count": 22
        },
        {
          "output_type": "display_data",
          "data": {
            "image/png": "[encoded data removed]",
            "text/plain": [
              "<Figure size 864x432 with 1 Axes>"
            ]
          },
          "metadata": {
            "tags": [],
            "needs_background": "light"
          }
        },
        {
          "output_type": "display_data",
          "data": {
            "text/plain": [
              "<Figure size 864x432 with 0 Axes>"
            ]
          },
          "metadata": {
            "tags": []
          }
        }
      ]
    },
    {
      "cell_type": "code",
      "metadata": {
        "id": "L11uSuMY2bY1",
        "colab_type": "code",
        "outputId": "c273b483-e4b9-4620-87c3-866fea581ebd",
        "colab": {
          "base_uri": "https://localhost:8080/",
          "height": 439
        }
      },
      "source": [
        "NVDA_monthend = NVDA.resample('BM').last() \n",
        "\n",
        "np.set_printoptions(precision=4, suppress=True)\n",
        "plt.rc('figure', figsize=(12, 6))\n",
        "\n",
        "plt.figure()\n",
        "autocorrelation_plot(NVDA_monthend)\n",
        "plt.title('NVDA Autocorrelation')\n",
        "plt.figure()"
      ],
      "execution_count": 23,
      "outputs": [
        {
          "output_type": "execute_result",
          "data": {
            "text/plain": [
              "<Figure size 864x432 with 0 Axes>"
            ]
          },
          "metadata": {
            "tags": []
          },
          "execution_count": 23
        },
        {
          "output_type": "display_data",
          "data": {
            "image/png": "[encoded data removed]",
            "text/plain": [
              "<Figure size 864x432 with 1 Axes>"
            ]
          },
          "metadata": {
            "tags": [],
            "needs_background": "light"
          }
        },
        {
          "output_type": "display_data",
          "data": {
            "text/plain": [
              "<Figure size 864x432 with 0 Axes>"
            ]
          },
          "metadata": {
            "tags": []
          }
        }
      ]
    },
    {
      "cell_type": "markdown",
      "metadata": {
        "id": "7p49YZyk08CM",
        "colab_type": "text"
      },
      "source": [
        "The other four stocks have the similar result, the correlation dropped under 30% after 12-16 months and there is no seasonality. "
      ]
    },
    {
      "cell_type": "markdown",
      "metadata": {
        "id": "CULl_1jWahoH",
        "colab_type": "text"
      },
      "source": [
        "#### Task 5:\n",
        "\n",
        "Fourth question: Is there a linear correlation between volatility of prices to overall return?\n",
        "\n",
        "Calculate correlation of stock returns to price volatility by industry over time.\n"
      ]
    },
    {
      "cell_type": "code",
      "metadata": {
        "id": "BuzP6C0uakfo",
        "colab_type": "code",
        "colab": {}
      },
      "source": [
        ""
      ],
      "execution_count": 0,
      "outputs": []
    },
    {
      "cell_type": "markdown",
      "metadata": {
        "id": "7soYgTgealIE",
        "colab_type": "text"
      },
      "source": [
        "\n",
        "#### Task 6:\n",
        "\n",
        "Fifth question:Is there a correlation between days of loss until a day of positive return?\n",
        "\n",
        "Calculate days of loss until positive return and chi square of dataset to determine if they are dependent\n"
      ]
    },
    {
      "cell_type": "markdown",
      "metadata": {
        "id": "b7Yyz3vLueAx",
        "colab_type": "text"
      },
      "source": [
        "Daily stock returns from the S&P500 for 1990-2018 can be used to assess whether \n",
        "\n",
        "stock activity each day is independent of the stock’s behavior on previous days. \n",
        "\n",
        "We can label each day as Up or Down (D) depending on whether the market was up or down that day by calculating the price change (positive or negative) \n",
        "\n",
        "If the days really are independent, then the number of days until a positive trading day should follow a geometric distribution.\n",
        "\n",
        "H0: The stock market being up or down on a given day is independent from all other days. Under this hypothesis, the number of days until an Up day should follow a geometric distribution.\n",
        "\n",
        "HA: The stock market being up or down on a given day is not independent from all otherdays."
      ]
    },
    {
      "cell_type": "code",
      "metadata": {
        "id": "LUboELEmwQdN",
        "colab_type": "code",
        "outputId": "d606e171-a29e-49d8-948f-c6fd6e03a928",
        "colab": {
          "base_uri": "https://localhost:8080/",
          "height": 497
        }
      },
      "source": [
        "import pandas_datareader.data as web\n",
        "import datetime\n",
        "\n",
        "start = datetime.datetime(1990, 1, 1)\n",
        "end = datetime.datetime(2018, 12, 31)\n",
        "\n",
        "\n",
        "SP500_all = web.DataReader('^GSPC', 'yahoo', start, end)\n",
        "#SP500_all.set_index('date', inplace=True)\n",
        "SP500_all = SP500_all[['Adj Close']]\n",
        "SP500_all['prev_rate']=SP500_all.shift(1)\n",
        "SP500_all.fillna(0)"
      ],
      "execution_count": 24,
      "outputs": [
        {
          "output_type": "stream",
          "text": [
            "/usr/local/lib/python3.6/dist-packages/pandas_datareader/compat/__init__.py:7: FutureWarning: pandas.util.testing is deprecated. Use the functions in the public API at pandas.testing instead.\n",
            "  from pandas.util.testing import assert_frame_equal\n"
          ],
          "name": "stderr"
        },
        {
          "output_type": "execute_result",
          "data": {
            "text/html": [
              "<div>\n",
              "<style scoped>\n",
              "    .dataframe tbody tr th:only-of-type {\n",
              "        vertical-align: middle;\n",
              "    }\n",
              "\n",
              "    .dataframe tbody tr th {\n",
              "        vertical-align: top;\n",
              "    }\n",
              "\n",
              "    .dataframe thead th {\n",
              "        text-align: right;\n",
              "    }\n",
              "</style>\n",
              "<table border=\"1\" class=\"dataframe\">\n",
              "  <thead>\n",
              "    <tr style=\"text-align: right;\">\n",
              "      <th></th>\n",
              "      <th>Adj Close</th>\n",
              "      <th>prev_rate</th>\n",
              "    </tr>\n",
              "    <tr>\n",
              "      <th>Date</th>\n",
              "      <th></th>\n",
              "      <th></th>\n",
              "    </tr>\n",
              "  </thead>\n",
              "  <tbody>\n",
              "    <tr>\n",
              "      <th>1990-01-02</th>\n",
              "      <td>359.690002</td>\n",
              "      <td>0.000000</td>\n",
              "    </tr>\n",
              "    <tr>\n",
              "      <th>1990-01-03</th>\n",
              "      <td>358.760010</td>\n",
              "      <td>359.690002</td>\n",
              "    </tr>\n",
              "    <tr>\n",
              "      <th>1990-01-04</th>\n",
              "      <td>355.670013</td>\n",
              "      <td>358.760010</td>\n",
              "    </tr>\n",
              "    <tr>\n",
              "      <th>1990-01-05</th>\n",
              "      <td>352.200012</td>\n",
              "      <td>355.670013</td>\n",
              "    </tr>\n",
              "    <tr>\n",
              "      <th>1990-01-08</th>\n",
              "      <td>353.790009</td>\n",
              "      <td>352.200012</td>\n",
              "    </tr>\n",
              "    <tr>\n",
              "      <th>...</th>\n",
              "      <td>...</td>\n",
              "      <td>...</td>\n",
              "    </tr>\n",
              "    <tr>\n",
              "      <th>2018-12-24</th>\n",
              "      <td>2351.100098</td>\n",
              "      <td>2416.620117</td>\n",
              "    </tr>\n",
              "    <tr>\n",
              "      <th>2018-12-26</th>\n",
              "      <td>2467.699951</td>\n",
              "      <td>2351.100098</td>\n",
              "    </tr>\n",
              "    <tr>\n",
              "      <th>2018-12-27</th>\n",
              "      <td>2488.830078</td>\n",
              "      <td>2467.699951</td>\n",
              "    </tr>\n",
              "    <tr>\n",
              "      <th>2018-12-28</th>\n",
              "      <td>2485.739990</td>\n",
              "      <td>2488.830078</td>\n",
              "    </tr>\n",
              "    <tr>\n",
              "      <th>2018-12-31</th>\n",
              "      <td>2506.850098</td>\n",
              "      <td>2485.739990</td>\n",
              "    </tr>\n",
              "  </tbody>\n",
              "</table>\n",
              "<p>7307 rows × 2 columns</p>\n",
              "</div>"
            ],
            "text/plain": [
              "              Adj Close    prev_rate\n",
              "Date                                \n",
              "1990-01-02   359.690002     0.000000\n",
              "1990-01-03   358.760010   359.690002\n",
              "1990-01-04   355.670013   358.760010\n",
              "1990-01-05   352.200012   355.670013\n",
              "1990-01-08   353.790009   352.200012\n",
              "...                 ...          ...\n",
              "2018-12-24  2351.100098  2416.620117\n",
              "2018-12-26  2467.699951  2351.100098\n",
              "2018-12-27  2488.830078  2467.699951\n",
              "2018-12-28  2485.739990  2488.830078\n",
              "2018-12-31  2506.850098  2485.739990\n",
              "\n",
              "[7307 rows x 2 columns]"
            ]
          },
          "metadata": {
            "tags": []
          },
          "execution_count": 24
        }
      ]
    },
    {
      "cell_type": "code",
      "metadata": {
        "id": "vw8Q-yehwedw",
        "colab_type": "code",
        "colab": {}
      },
      "source": [
        "SP500_all[\"change\"] = SP500_all[\"Adj Close\"]-SP500_all[\"prev_rate\"]\n",
        "SP500_all.loc[SP500_all['change'] <= 0, 'UP_Flag'] = 0 \n",
        "SP500_all.loc[SP500_all['change'] > 0, 'UP_Flag'] = 1\n",
        "SP500_all.dropna(how='any', inplace=True) \n",
        "SP500_all['UP_Flag'] = SP500_all.UP_Flag.astype(int)\n",
        "Up=SP500_all['UP_Flag'] .tolist()"
      ],
      "execution_count": 0,
      "outputs": []
    },
    {
      "cell_type": "code",
      "metadata": {
        "id": "r1j9K7bJ8qYg",
        "colab_type": "code",
        "outputId": "aa6c9cca-4e4b-4640-f23c-d7ed58f6b915",
        "colab": {
          "base_uri": "https://localhost:8080/",
          "height": 106
        }
      },
      "source": [
        "SP500_all.mean()"
      ],
      "execution_count": 26,
      "outputs": [
        {
          "output_type": "execute_result",
          "data": {
            "text/plain": [
              "Adj Close    1210.087126\n",
              "prev_rate    1209.793236\n",
              "change          0.293890\n",
              "UP_Flag         0.533397\n",
              "dtype: float64"
            ]
          },
          "metadata": {
            "tags": []
          },
          "execution_count": 26
        }
      ]
    },
    {
      "cell_type": "code",
      "metadata": {
        "id": "ObteustH3Di0",
        "colab_type": "code",
        "colab": {}
      },
      "source": [
        "L1=len(Up) \n",
        "Up2=list(set(Up))\n",
        "Up2.sort(reverse=False)\n",
        "L2=len(Up2)\n",
        "\n",
        "for m in range(L2):\n",
        "  X=set() \n",
        "  start=Up.index(Up2[m])\n",
        "  for n in range(L1):\n",
        "    stop=L1\n",
        "    if Up2[m] in tuple(Up)[start:stop]:\n",
        "      a=Up.index(Up2[m],start,stop)\n",
        "      X.add(a)\n",
        "      start=start+1"
      ],
      "execution_count": 0,
      "outputs": []
    },
    {
      "cell_type": "code",
      "metadata": {
        "id": "yYv6hHek5XRe",
        "colab_type": "code",
        "outputId": "a1a8fa90-fd7e-4323-a9a1-e8b7ac78e7ac",
        "colab": {
          "base_uri": "https://localhost:8080/",
          "height": 55
        }
      },
      "source": [
        "s1 = list(X)\n",
        "s1.insert(0,0) \n",
        "s2=[]\n",
        "for i in range(len(s1)-1):\n",
        "    b = s1[i+1] - s1[i]\n",
        "    s2.append(b)\n",
        "print(s2)"
      ],
      "execution_count": 28,
      "outputs": [
        {
          "output_type": "stream",
          "text": [
            "[3, 3, 3, 2, 1, 2, 6, 2, 1, 2, 2, 2, 1, 1, 6, 1, 1, 1, 1, 2, 2, 2, 2, 1, 1, 1, 4, 1, 1, 1, 4, 4, 1, 2, 1, 7, 1, 2, 1, 1, 1, 1, 1, 1, 1, 1, 1, 1, 3, 1, 1, 1, 1, 3, 1, 1, 1, 1, 5, 1, 3, 2, 1, 1, 4, 1, 1, 1, 1, 2, 1, 2, 1, 1, 1, 3, 3, 1, 3, 1, 5, 1, 1, 2, 1, 1, 3, 4, 1, 2, 2, 1, 1, 2, 3, 3, 1, 5, 3, 1, 1, 2, 2, 4, 1, 3, 1, 1, 2, 4, 2, 1, 1, 3, 1, 1, 2, 2, 1, 2, 2, 1, 3, 1, 1, 1, 3, 2, 4, 1, 2, 2, 2, 1, 7, 1, 2, 1, 1, 1, 3, 1, 1, 3, 1, 2, 1, 1, 2, 1, 2, 2, 1, 3, 1, 2, 2, 2, 6, 2, 3, 2, 1, 1, 4, 2, 2, 3, 1, 1, 1, 1, 4, 1, 4, 1, 1, 1, 3, 1, 2, 3, 1, 2, 1, 2, 1, 1, 1, 1, 7, 2, 1, 4, 1, 3, 1, 2, 3, 1, 3, 1, 1, 3, 5, 2, 1, 1, 2, 2, 4, 1, 1, 4, 1, 1, 1, 3, 9, 1, 2, 2, 1, 1, 2, 4, 1, 5, 2, 1, 1, 1, 1, 2, 3, 3, 1, 1, 5, 1, 2, 1, 1, 3, 3, 3, 3, 4, 4, 1, 3, 2, 1, 1, 1, 1, 1, 1, 1, 1, 3, 4, 1, 2, 3, 2, 4, 2, 1, 4, 2, 4, 1, 2, 2, 4, 4, 1, 3, 1, 1, 2, 1, 4, 3, 1, 2, 1, 3, 1, 1, 1, 1, 3, 2, 3, 1, 1, 2, 4, 1, 2, 3, 1, 3, 2, 1, 2, 2, 2, 4, 1, 1, 4, 2, 3, 1, 2, 2, 2, 1, 1, 1, 1, 2, 3, 2, 3, 1, 1, 1, 1, 5, 4, 1, 1, 2, 3, 1, 1, 1, 2, 1, 4, 1, 2, 2, 1, 1, 3, 1, 2, 1, 1, 6, 2, 1, 1, 1, 1, 1, 1, 1, 3, 1, 1, 1, 2, 3, 2, 1, 1, 1, 4, 1, 1, 2, 1, 1, 1, 3, 1, 1, 1, 7, 1, 4, 3, 4, 3, 1, 1, 1, 1, 4, 1, 1, 3, 1, 1, 1, 1, 1, 4, 1, 5, 1, 2, 1, 1, 2, 1, 3, 2, 3, 3, 5, 2, 1, 4, 2, 2, 1, 3, 7, 1, 1, 1, 1, 1, 1, 3, 1, 1, 2, 1, 2, 1, 2, 1, 1, 3, 1, 5, 2, 1, 2, 1, 2, 3, 1, 1, 6, 1, 2, 2, 3, 1, 3, 1, 3, 2, 4, 1, 2, 2, 1, 1, 1, 1, 3, 1, 1, 2, 1, 3, 3, 1, 1, 2, 5, 1, 2, 4, 1, 4, 1, 1, 1, 1, 1, 6, 1, 1, 1, 1, 1, 4, 1, 1, 1, 2, 2, 5, 1, 1, 3, 1, 1, 1, 1, 4, 3, 1, 3, 1, 1, 1, 5, 1, 2, 1, 2, 2, 2, 1, 1, 4, 1, 1, 1, 2, 3, 2, 2, 1, 1, 1, 3, 3, 1, 2, 2, 1, 2, 2, 1, 2, 1, 1, 2, 7, 2, 2, 2, 3, 3, 2, 2, 3, 1, 1, 5, 2, 1, 1, 1, 1, 1, 3, 1, 1, 1, 2, 1, 1, 4, 1, 1, 1, 2, 4, 3, 2, 2, 1, 2, 1, 3, 1, 1, 1, 3, 1, 1, 3, 1, 1, 2, 3, 1, 1, 2, 2, 1, 2, 2, 1, 2, 1, 1, 4, 2, 3, 1, 1, 7, 1, 1, 2, 5, 1, 1, 2, 1, 3, 4, 1, 1, 1, 4, 2, 1, 4, 2, 6, 1, 1, 3, 1, 4, 1, 1, 1, 1, 1, 3, 1, 1, 1, 2, 3, 2, 1, 1, 3, 1, 1, 4, 1, 1, 1, 1, 2, 2, 1, 1, 2, 2, 1, 1, 1, 1, 2, 1, 1, 1, 2, 3, 1, 2, 1, 1, 1, 1, 2, 1, 1, 2, 1, 1, 1, 1, 4, 1, 1, 1, 1, 1, 2, 1, 4, 1, 1, 2, 1, 1, 2, 1, 1, 2, 2, 1, 1, 1, 1, 4, 1, 1, 4, 1, 2, 5, 1, 1, 1, 1, 1, 3, 4, 2, 1, 1, 1, 1, 1, 2, 1, 2, 3, 1, 1, 1, 1, 1, 6, 1, 1, 4, 2, 2, 2, 2, 1, 2, 1, 1, 1, 1, 1, 1, 1, 1, 1, 1, 1, 3, 1, 3, 3, 3, 2, 4, 1, 1, 2, 1, 1, 3, 3, 1, 2, 1, 1, 3, 1, 4, 1, 1, 2, 2, 1, 1, 1, 2, 1, 1, 1, 2, 1, 2, 4, 2, 1, 1, 1, 2, 1, 1, 3, 3, 3, 2, 1, 1, 2, 2, 1, 1, 1, 1, 2, 1, 1, 1, 1, 1, 6, 1, 1, 5, 1, 1, 2, 2, 2, 1, 1, 1, 4, 2, 2, 2, 1, 1, 6, 1, 1, 2, 1, 1, 1, 2, 1, 1, 1, 1, 5, 1, 1, 1, 1, 3, 1, 2, 2, 3, 3, 1, 2, 9, 1, 1, 3, 1, 1, 5, 1, 2, 3, 1, 5, 1, 2, 1, 1, 1, 2, 1, 3, 2, 1, 1, 1, 3, 3, 4, 1, 2, 1, 1, 1, 1, 1, 1, 3, 1, 3, 1, 1, 1, 1, 1, 2, 1, 4, 1, 2, 1, 1, 3, 4, 2, 2, 1, 1, 1, 1, 1, 2, 1, 1, 2, 1, 2, 1, 3, 6, 6, 1, 1, 1, 2, 1, 1, 4, 2, 2, 1, 1, 1, 2, 1, 1, 1, 1, 5, 1, 1, 1, 1, 2, 1, 2, 1, 1, 2, 4, 1, 4, 2, 2, 1, 4, 1, 4, 1, 2, 3, 2, 1, 1, 1, 4, 1, 1, 2, 2, 4, 1, 1, 2, 1, 3, 1, 1, 2, 1, 2, 1, 3, 1, 3, 4, 1, 1, 1, 1, 1, 1, 1, 1, 2, 1, 2, 3, 2, 1, 1, 2, 2, 1, 1, 1, 1, 4, 1, 1, 3, 1, 1, 2, 1, 1, 3, 3, 2, 1, 1, 5, 3, 1, 1, 2, 1, 3, 2, 2, 1, 1, 4, 1, 2, 1, 1, 1, 1, 4, 1, 4, 1, 5, 3, 1, 1, 1, 4, 2, 1, 1, 2, 1, 1, 2, 1, 1, 1, 2, 2, 6, 1, 4, 3, 1, 1, 2, 1, 5, 1, 1, 2, 1, 5, 1, 1, 2, 1, 1, 2, 2, 1, 1, 2, 1, 2, 1, 2, 1, 1, 2, 3, 2, 1, 1, 2, 1, 1, 1, 1, 2, 5, 1, 1, 1, 4, 2, 1, 2, 1, 1, 1, 5, 1, 1, 1, 4, 2, 1, 4, 1, 5, 2, 1, 2, 1, 1, 1, 3, 2, 1, 3, 1, 1, 2, 1, 2, 2, 2, 2, 1, 1, 2, 1, 5, 1, 3, 4, 1, 4, 3, 1, 4, 1, 5, 4, 3, 1, 1, 1, 2, 1, 1, 1, 2, 1, 1, 3, 5, 1, 2, 1, 1, 1, 1, 1, 1, 2, 2, 1, 1, 1, 2, 1, 1, 5, 1, 1, 1, 1, 1, 1, 2, 1, 2, 3, 1, 2, 2, 2, 2, 1, 1, 1, 1, 3, 4, 1, 2, 5, 1, 1, 3, 1, 2, 1, 3, 3, 2, 1, 2, 2, 1, 1, 7, 1, 1, 1, 2, 1, 2, 3, 4, 1, 2, 3, 1, 2, 1, 1, 1, 6, 1, 1, 2, 1, 4, 2, 2, 2, 1, 1, 2, 2, 5, 2, 2, 1, 1, 1, 2, 3, 1, 1, 1, 1, 1, 5, 1, 1, 1, 1, 2, 2, 3, 1, 1, 3, 4, 1, 6, 4, 2, 1, 1, 3, 1, 1, 1, 5, 2, 3, 1, 4, 1, 1, 2, 3, 3, 1, 1, 2, 2, 6, 1, 1, 2, 3, 1, 1, 3, 1, 1, 1, 2, 1, 1, 2, 2, 4, 4, 1, 1, 4, 1, 3, 1, 1, 2, 1, 1, 2, 1, 1, 1, 3, 1, 1, 1, 3, 1, 2, 4, 4, 1, 2, 3, 2, 2, 1, 2, 2, 1, 3, 1, 1, 1, 1, 3, 1, 4, 1, 1, 2, 1, 1, 1, 3, 2, 1, 3, 1, 6, 1, 2, 2, 2, 2, 4, 4, 1, 1, 1, 6, 3, 2, 1, 3, 4, 1, 1, 2, 2, 3, 2, 2, 1, 2, 1, 2, 1, 1, 1, 1, 3, 3, 4, 1, 1, 1, 1, 1, 1, 3, 1, 3, 2, 2, 1, 2, 3, 1, 3, 4, 4, 7, 4, 1, 6, 1, 3, 1, 2, 3, 1, 1, 2, 2, 6, 1, 4, 2, 1, 2, 2, 1, 1, 3, 1, 5, 3, 1, 1, 1, 1, 3, 4, 1, 1, 2, 1, 1, 2, 1, 1, 3, 1, 2, 2, 5, 3, 6, 3, 2, 1, 1, 1, 3, 2, 2, 4, 1, 1, 3, 4, 2, 1, 2, 2, 1, 1, 4, 1, 1, 2, 1, 2, 6, 1, 1, 1, 1, 1, 3, 4, 1, 1, 1, 2, 3, 5, 1, 1, 5, 2, 4, 3, 1, 2, 2, 4, 1, 1, 2, 1, 1, 3, 3, 1, 3, 2, 2, 2, 5, 5, 6, 1, 2, 1, 2, 1, 2, 3, 1, 3, 3, 1, 2, 1, 1, 4, 1, 1, 1, 2, 1, 2, 1, 1, 2, 3, 1, 3, 3, 1, 5, 2, 1, 1, 1, 2, 2, 1, 1, 2, 1, 1, 4, 3, 2, 3, 1, 1, 3, 1, 6, 1, 2, 4, 2, 1, 2, 2, 1, 2, 2, 1, 4, 2, 2, 3, 1, 1, 4, 2, 2, 2, 2, 3, 7, 1, 5, 3, 1, 2, 1, 3, 1, 5, 2, 1, 3, 2, 3, 1, 4, 3, 4, 1, 4, 4, 5, 2, 1, 1, 1, 4, 1, 1, 1, 3, 1, 2, 2, 1, 2, 6, 2, 1, 1, 3, 1, 4, 3, 1, 3, 5, 2, 1, 1, 1, 2, 1, 1, 2, 2, 3, 2, 1, 1, 1, 4, 2, 1, 3, 1, 2, 2, 6, 2, 1, 3, 4, 1, 4, 1, 1, 2, 3, 3, 6, 3, 1, 2, 1, 5, 4, 1, 3, 2, 2, 1, 3, 2, 3, 1, 1, 1, 1, 1, 1, 1, 2, 5, 1, 2, 1, 3, 2, 1, 2, 2, 1, 3, 1, 3, 2, 3, 1, 3, 4, 1, 1, 1, 1, 2, 1, 1, 1, 1, 3, 1, 1, 2, 1, 3, 2, 2, 3, 1, 2, 1, 3, 1, 4, 2, 1, 2, 4, 2, 2, 1, 1, 1, 1, 2, 1, 1, 1, 2, 2, 1, 1, 1, 1, 1, 1, 1, 2, 3, 1, 2, 2, 3, 4, 2, 1, 1, 1, 1, 2, 2, 1, 2, 2, 1, 2, 2, 1, 1, 2, 1, 3, 4, 5, 2, 1, 1, 1, 2, 3, 2, 3, 1, 2, 1, 1, 2, 1, 2, 1, 1, 1, 2, 1, 1, 1, 2, 2, 1, 1, 2, 3, 3, 2, 1, 2, 1, 2, 1, 3, 6, 1, 1, 1, 2, 1, 1, 5, 2, 1, 6, 2, 1, 2, 1, 1, 4, 3, 1, 1, 2, 1, 1, 2, 4, 1, 1, 4, 1, 4, 2, 1, 1, 1, 1, 1, 2, 1, 2, 1, 1, 2, 2, 1, 2, 2, 1, 4, 1, 4, 2, 1, 1, 5, 2, 3, 1, 1, 1, 1, 5, 1, 3, 1, 1, 1, 2, 2, 1, 1, 1, 2, 1, 1, 2, 2, 1, 1, 1, 2, 1, 2, 3, 2, 1, 2, 1, 2, 3, 4, 1, 2, 1, 3, 1, 1, 1, 1, 1, 1, 1, 1, 4, 1, 3, 1, 2, 2, 1, 3, 2, 3, 1, 2, 1, 1, 3, 1, 1, 1, 2, 2, 5, 2, 2, 2, 1, 5, 1, 1, 2, 1, 1, 2, 2, 2, 1, 1, 1, 1, 2, 2, 1, 1, 2, 2, 1, 1, 3, 2, 3, 4, 2, 2, 3, 1, 1, 1, 2, 1, 4, 1, 2, 2, 2, 2, 1, 2, 3, 2, 3, 1, 1, 1, 2, 1, 2, 1, 2, 1, 2, 3, 2, 1, 1, 1, 1, 3, 4, 3, 1, 2, 1, 1, 1, 1, 1, 1, 2, 1, 2, 2, 1, 1, 2, 1, 1, 4, 2, 2, 2, 2, 1, 3, 2, 2, 1, 2, 1, 2, 4, 1, 4, 1, 1, 1, 1, 1, 1, 5, 5, 1, 2, 2, 1, 4, 1, 2, 1, 1, 1, 2, 1, 1, 3, 1, 1, 1, 1, 1, 1, 2, 2, 1, 2, 3, 1, 1, 1, 5, 1, 1, 2, 3, 1, 1, 1, 1, 2, 2, 3, 2, 1, 2, 1, 1, 2, 3, 2, 2, 2, 1, 1, 3, 2, 1, 2, 5, 2, 1, 1, 1, 1, 1, 3, 2, 3, 3, 1, 1, 3, 2, 1, 2, 1, 1, 4, 1, 1, 2, 2, 1, 2, 4, 4, 3, 1, 1, 2, 1, 1, 4, 4, 1, 4, 3, 2, 1, 2, 2, 2, 1, 5, 1, 3, 1, 3, 3, 1, 5, 2, 1, 1, 1, 1, 2, 2, 2, 1, 1, 2, 1, 3, 1, 1, 1, 2, 1, 2, 3, 1, 1, 1, 3, 1, 1, 2, 1, 2, 1, 1, 2, 1, 1, 1, 1, 1, 1, 2, 1, 4, 1, 1, 2, 1, 1, 1, 1, 1, 2, 1, 3, 1, 1, 2, 1, 3, 1, 2, 1, 1, 2, 4, 1, 4, 2, 2, 1, 1, 1, 3, 2, 1, 4, 1, 1, 1, 2, 1, 4, 1, 1, 2, 6, 4, 2, 1, 1, 2, 1, 2, 1, 1, 2, 1, 3, 2, 1, 1, 1, 1, 1, 2, 1, 1, 1, 1, 2, 3, 4, 1, 1, 1, 1, 2, 2, 3, 2, 1, 4, 1, 1, 1, 1, 1, 4, 1, 2, 1, 1, 2, 2, 4, 3, 1, 1, 1, 1, 2, 1, 1, 4, 2, 2, 3, 2, 1, 2, 1, 1, 2, 4, 1, 2, 1, 2, 3, 2, 1, 2, 3, 1, 1, 1, 2, 1, 2, 3, 1, 2, 3, 1, 2, 3, 3, 3, 1, 3, 1, 2, 2, 2, 5, 3, 2, 2, 2, 1, 1, 1, 3, 1, 2, 2, 1, 3, 2, 1, 1, 1, 2, 5, 2, 1, 2, 6, 1, 2, 1, 2, 1, 4, 2, 1, 1, 2, 2, 2, 1, 1, 4, 2, 4, 2, 3, 2, 1, 1, 4, 1, 2, 1, 1, 3, 3, 1, 1, 1, 3, 1, 1, 4, 1, 2, 2, 2, 2, 1, 1, 1, 3, 2, 1, 1, 1, 4, 2, 3, 1, 1, 3, 2, 2, 3, 1, 2, 2, 2, 4, 1, 1, 2, 1, 2, 2, 1, 4, 1, 2, 1, 3, 1, 3, 1, 1, 2, 1, 1, 5, 1, 2, 1, 1, 2, 2, 1, 4, 1, 2, 9, 3, 2, 3, 3, 2, 1, 2, 3, 4, 3, 3, 1, 1, 1, 1, 2, 1, 2, 1, 2, 2, 2, 3, 3, 1, 2, 1, 1, 2, 2, 3, 2, 1, 2, 2, 1, 1, 1, 4, 2, 1, 1, 2, 1, 7, 6, 2, 2, 1, 1, 1, 2, 1, 3, 2, 1, 3, 1, 1, 1, 3, 1, 1, 2, 1, 1, 2, 2, 1, 3, 2, 1, 2, 2, 4, 2, 5, 2, 1, 1, 1, 2, 3, 2, 1, 4, 1, 2, 1, 1, 2, 2, 2, 3, 2, 1, 1, 1, 2, 1, 2, 1, 1, 3, 1, 1, 1, 3, 3, 1, 3, 1, 1, 1, 2, 1, 1, 5, 1, 1, 1, 1, 2, 1, 1, 2, 2, 4, 5, 1, 1, 1, 1, 1, 2, 1, 2, 3, 5, 2, 1, 1, 1, 1, 1, 2, 2, 1, 1, 4, 2, 2, 1, 1, 2, 3, 1, 1, 1, 2, 2, 1, 1, 1, 1, 1, 2, 2, 1, 1, 1, 1, 1, 2, 1, 2, 4, 2, 3, 1, 3, 2, 2, 2, 1, 1, 1, 3, 2, 1, 1, 1, 1, 1, 2, 1, 1, 2, 1, 1, 3, 1, 3, 1, 1, 2, 1, 1, 2, 1, 1, 1, 1, 1, 2, 1, 2, 1, 3, 1, 2, 5, 2, 3, 4, 2, 2, 3, 1, 3, 2, 1, 2, 2, 1, 5, 6, 1, 1, 1, 1, 1, 2, 2, 1, 2, 1, 1, 4, 1, 2, 3, 5, 1, 1, 5, 2, 2, 1, 1, 1, 2, 1, 1, 1, 2, 2, 1, 4, 2, 3, 2, 3, 1, 1, 1, 2, 1, 2, 1, 1, 1, 1, 2, 2, 1, 1, 1, 1, 3, 5, 1, 1, 3, 4, 1, 1, 2, 1, 1, 1, 1, 1, 2, 1, 1, 1, 1, 2, 1, 1, 3, 2, 4, 1, 2, 1, 3, 1, 1, 1, 1, 2, 1, 2, 1, 1, 1, 2, 1, 1, 2, 1, 1, 4, 1, 2, 1, 3, 3, 4, 1, 1, 2, 1, 1, 2, 1, 2, 1, 2, 5, 1, 1, 2, 1, 1, 2, 1, 1, 1, 5, 1, 1, 2, 4, 1, 4, 1, 1, 1, 7, 2, 1, 2, 1, 1, 1, 4, 1, 1, 1, 1, 2, 1, 4, 2, 2, 2, 1, 8, 4, 2, 1, 1, 2, 3, 1, 1, 2, 1, 1, 1, 4, 3, 1, 1, 1, 1, 5, 1, 1, 2, 3, 1, 1, 2, 1, 1, 2, 2, 2, 1, 1, 2, 1, 1, 3, 1, 2, 1, 2, 1, 2, 8, 1, 1, 3, 1, 1, 2, 4, 1, 2, 1, 1, 1, 1, 2, 2, 1, 1, 2, 1, 1, 1, 2, 1, 1, 1, 1, 2, 5, 1, 1, 2, 1, 1, 2, 3, 1, 1, 2, 1, 1, 1, 2, 4, 1, 1, 1, 1, 2, 1, 1, 4, 1, 4, 1, 6, 1, 3, 3, 2, 1, 1, 1, 2, 4, 3, 7, 1, 1, 1, 2, 4, 1, 1, 2, 2, 2, 1, 1, 1, 3, 2, 1, 2, 1, 1, 7, 2, 1, 1, 5, 1, 5, 1, 1, 1, 1, 1, 3, 1, 1, 3, 2, 3, 2, 3, 1, 2, 1, 1, 1, 3, 6, 2, 1, 1, 1, 5, 2, 1, 1, 3, 3, 2, 1, 2, 1, 3, 1, 4, 1, 1, 1, 1, 3, 1, 1, 3, 1, 1, 1, 1, 1, 3, 1, 2, 6, 1, 2, 3, 1, 3, 1, 1, 1, 1, 1, 1, 1, 2, 3, 2, 1, 2, 2, 1, 1, 2, 3, 2, 1, 2, 1, 1, 1, 1, 1, 1, 2, 1, 4, 2, 2, 2, 2, 2, 2, 1, 1, 1, 3, 3, 1, 1, 1, 1, 2, 1, 2, 1, 1, 1, 1, 2, 1, 1, 1, 2, 2, 4, 2, 2, 3, 1, 4, 2, 1, 3, 2, 1, 1, 2, 2, 1, 1, 1, 1, 1, 1, 1, 2, 1, 1, 1, 3, 1, 2, 2, 1, 4, 3, 5, 2, 1, 3, 1, 2, 1, 1, 1, 1, 1, 1, 2, 1, 1, 1, 6, 3, 3, 3, 1, 1, 1, 2, 1, 1, 1, 1, 2, 1, 1, 1, 3, 1, 2, 2, 1, 2, 1, 1, 4, 1, 2, 1, 6, 1, 5, 2, 2, 1, 1, 1, 3, 4, 2, 1, 2, 1, 3, 1, 4, 2, 3, 2, 1, 1, 1, 2, 1, 1, 2, 2, 2, 1, 1, 2, 2, 1, 3, 3, 1, 2, 3, 3, 1, 1, 1, 4, 1, 3, 1, 1, 1, 1, 1, 2, 2, 1, 1, 3, 2, 2, 1, 1, 3, 1, 2, 1, 1, 1, 2, 1, 1, 2, 1, 1, 1, 4, 1, 1, 1, 1, 1, 3, 2, 2, 1, 1, 3, 2, 1, 2, 2, 2, 1, 1, 2, 2, 3, 2, 2, 1, 2, 1, 2, 1, 1, 1, 2, 1, 1, 2, 4, 3, 1, 3, 1, 1, 4, 2, 4, 1, 3, 4, 2, 1, 1, 1, 2, 1, 2, 2, 1, 3, 1, 1, 1, 1, 2, 1, 1, 1, 2, 1, 1, 2, 3, 1, 2, 4, 4, 1, 1, 1, 1, 2, 1, 6, 1, 6, 1, 1, 1, 2, 3, 2, 1, 2, 3, 2, 1, 1, 3, 2, 4, 3, 2, 3, 2, 2, 2, 5, 1, 3, 1, 2, 1, 1, 2, 1, 3, 2, 1, 1, 2, 3, 1, 3, 1, 4, 1, 1, 3, 3, 3, 2, 4, 1, 1, 3, 1, 1, 2, 1, 5, 1, 3, 2, 1, 1, 1, 2, 1, 1, 6, 1, 1, 4, 3, 2, 2, 1, 7, 1, 1, 3, 1, 2, 2, 1, 2, 1, 3, 6, 1, 1, 1, 1, 2, 1, 1, 1, 3, 1, 1, 3, 1, 3, 3, 1, 5, 4, 2, 2, 2, 2, 2, 3, 4, 2, 1, 1, 3, 1, 1, 3, 4, 4, 1, 2, 2, 2, 1, 2, 2, 1, 3, 1, 6, 1, 1, 3, 2, 1, 3, 1, 1, 1, 1, 2, 1, 1, 3, 1, 1, 1, 4, 1, 1, 2, 3, 2, 2, 1, 1, 2, 1, 1, 2, 2, 1, 3, 4, 1, 1, 4, 2, 2, 2, 1, 2, 2, 1, 2, 1, 1, 6, 2, 1, 2, 3, 1, 1, 1, 2, 2, 1, 1, 1, 1, 2, 2, 2, 2, 2, 1, 3, 1, 1, 2, 2, 2, 2, 1, 3, 4, 4, 1, 4, 3, 3, 1, 1, 3, 1, 2, 3, 1, 2, 2, 2, 2, 1, 3, 10, 1, 1, 1, 3, 2, 2, 1, 1, 1, 2, 3, 1, 1, 1, 1, 1, 2, 2, 2, 1, 3, 1, 4, 1, 2, 3, 2, 2, 2, 2, 1, 5, 1, 1, 2, 1, 1, 1, 1, 1, 1, 2, 1, 2, 1, 1, 2, 2, 4, 1, 1, 2, 5, 4, 1, 1, 3, 2, 2, 4, 3, 2, 1, 2, 2, 1, 2, 1, 1, 2, 3, 3, 1, 1, 1, 1, 1, 1, 3, 1, 3, 1, 3, 3, 1, 4, 1, 2, 2, 1, 1, 2, 1, 2, 1, 1, 2, 1, 4, 1, 4, 1, 2, 1, 4, 1, 2, 3, 1, 3, 1, 1, 1, 1, 1, 2, 3, 1, 1, 2, 1, 1, 1, 2, 2, 1, 1, 1, 1, 1, 1, 1, 3, 1, 2, 1, 1, 1, 1, 1, 2, 2, 1, 2, 1, 1, 1, 1, 2, 3, 3, 2, 1, 2, 2, 2, 5, 1, 1, 1, 3, 1, 3, 3, 1, 2, 1, 1, 1, 1, 1, 2, 1, 2, 2, 1, 1, 2, 1, 3, 4, 3, 1, 1, 1, 1, 1, 3, 1, 1, 4, 1, 1, 2, 1, 5, 2, 4, 3, 2, 1, 1, 2, 1, 2, 2, 1, 1, 3, 2, 1, 1, 2, 3, 1, 2, 1, 1, 1, 2, 3, 2, 4, 2, 1, 1, 1, 2, 1, 1, 2, 4, 2, 2, 2, 1, 1, 2, 1, 1, 1, 2, 1, 2, 1, 3, 1, 1, 4, 2, 1, 1, 1, 5, 2, 1, 1, 1, 3, 1, 1, 1, 2, 5, 1, 1, 1, 1, 2, 1, 1, 5, 2, 2, 7, 2, 7, 3, 1, 1, 2, 1, 1, 6, 1, 3, 2, 1, 1, 2, 1, 4, 2, 4, 5, 1, 2]\n"
          ],
          "name": "stdout"
        }
      ]
    },
    {
      "cell_type": "code",
      "metadata": {
        "id": "8TFgjOqG7tsS",
        "colab_type": "code",
        "outputId": "407a600a-85d7-495d-8716-fdb2c7489c43",
        "colab": {
          "base_uri": "https://localhost:8080/",
          "height": 195
        }
      },
      "source": [
        "from collections import Counter\n",
        "Counter(s2)"
      ],
      "execution_count": 29,
      "outputs": [
        {
          "output_type": "execute_result",
          "data": {
            "text/plain": [
              "Counter({1: 2020,\n",
              "         2: 1014,\n",
              "         3: 458,\n",
              "         4: 244,\n",
              "         5: 93,\n",
              "         6: 45,\n",
              "         7: 17,\n",
              "         8: 2,\n",
              "         9: 3,\n",
              "         10: 1})"
            ]
          },
          "metadata": {
            "tags": []
          },
          "execution_count": 29
        }
      ]
    },
    {
      "cell_type": "markdown",
      "metadata": {
        "id": "1TSG5I_J8FkF",
        "colab_type": "text"
      },
      "source": [
        "Then we may get the following results for further analysis: \n",
        "\n",
        "|Days|1|2|3|4|5|6|7+|Total|\n",
        "|------|------|-----|-----|-----|-----|-----|----|------|\n",
        "|Observed| 2020| 1014| 458| 244|  93| 45| 23| 3897|\n",
        "\n",
        "The S&P500 was positive on 53.34% of those days."
      ]
    },
    {
      "cell_type": "code",
      "metadata": {
        "id": "KQGsAE048eqW",
        "colab_type": "code",
        "outputId": "4be537ce-14ef-4f74-c5c5-00e682c2910c",
        "colab": {
          "base_uri": "https://localhost:8080/",
          "height": 35
        }
      },
      "source": [
        "import scipy.stats as stats\n",
        "from scipy.stats import chisquare\n",
        "obs_nd = [2020, 1014, 458, 244, 93, 45, 23]\n",
        "total_days = sum(obs_nd)\n",
        "p = 0.5334\n",
        "\n",
        "expected_values =[]\n",
        "\n",
        "for days in range(6):\n",
        "    expected_values.append(round(p*(1-p)**days*total_days,0))\n",
        "\n",
        "expected_values.append(round((1-stats.geom.cdf(6,p))*total_days,0))\n",
        "\n",
        "print('The expected values are: ', expected_values)"
      ],
      "execution_count": 30,
      "outputs": [
        {
          "output_type": "stream",
          "text": [
            "The expected values are:  [2079.0, 970.0, 453.0, 211.0, 99.0, 46.0, 40.0]\n"
          ],
          "name": "stdout"
        }
      ]
    },
    {
      "cell_type": "code",
      "metadata": {
        "id": "u4CxWWbhJHOU",
        "colab_type": "code",
        "outputId": "2fa3e1c3-535e-4f2c-e343-4875fef141e5",
        "colab": {
          "base_uri": "https://localhost:8080/",
          "height": 52
        }
      },
      "source": [
        "chi_testbook = chisquare(obs_nd, expected_values)\n",
        "\n",
        "print('Chis-square value is: ', chi_testbook.statistic)\n",
        "print('p-value: ', chi_testbook.pvalue)"
      ],
      "execution_count": 31,
      "outputs": [
        {
          "output_type": "stream",
          "text": [
            "Chis-square value is:  16.496939535821003\n",
            "p-value:  0.01132121004722022\n"
          ],
          "name": "stdout"
        }
      ]
    },
    {
      "cell_type": "markdown",
      "metadata": {
        "id": "-Akh-n-4JKI4",
        "colab_type": "text"
      },
      "source": [
        "p value is around 0.01 which is smaller than significance test 0.05, so the H0 can be rejected.\n",
        "\n",
        "The stock market being up or down on a given day is not independent from all other days."
      ]
    },
    {
      "cell_type": "markdown",
      "metadata": {
        "id": "ka6pxMPXapuo",
        "colab_type": "text"
      },
      "source": [
        "\n",
        "#### Task 8: \n",
        "\n",
        "Seventh question: Is there seasonality in the data? (sector level does Sector perform welll during certain period)\n",
        "\n",
        "Find seasonality effect using lag plot or autocorrelation functions."
      ]
    },
    {
      "cell_type": "code",
      "metadata": {
        "id": "uYvBnvqeas5L",
        "colab_type": "code",
        "colab": {}
      },
      "source": [
        ""
      ],
      "execution_count": 0,
      "outputs": []
    },
    {
      "cell_type": "markdown",
      "metadata": {
        "id": "TjNpEJVlXtx1",
        "colab_type": "text"
      },
      "source": [
        "### To be Filled:\n",
        "\n",
        "* **Comments:**\n",
        "\n",
        "* **Codes:**\n",
        "\n",
        "* **Conclusion:**"
      ]
    },
    {
      "cell_type": "markdown",
      "metadata": {
        "id": "MEFmvUR6Xtx2",
        "colab_type": "text"
      },
      "source": [
        "---\n",
        "# Part 4 - Coronavirus Effect on S&P 500 Stock Prices"
      ]
    },
    {
      "cell_type": "markdown",
      "metadata": {
        "id": "2fuREbsHXtx2",
        "colab_type": "text"
      },
      "source": [
        "#### Task 7:\n",
        "\n",
        "Sixth question: Can we measure or see the coronavirus effect on S&P 500 stock prices?\n",
        "\n",
        "Find the coronavirus start date from the \"https://github.com/CSSEGISandData/COVID-19\" source, prepare trend analysis or graphs and compare it with previous periods. (Jan- Now） ( Compare with previous year) \n"
      ]
    },
    {
      "cell_type": "markdown",
      "metadata": {
        "id": "HAPDbW3pXtx3",
        "colab_type": "text"
      },
      "source": [
        "### To be Filled:\n",
        "\n",
        "* **Comments:**\n",
        "\n",
        "* **Codes:**\n",
        "\n",
        "* **Conclusion:**"
      ]
    },
    {
      "cell_type": "code",
      "metadata": {
        "id": "HvXda8QFXtx4",
        "colab_type": "code",
        "colab": {}
      },
      "source": [
        ""
      ],
      "execution_count": 0,
      "outputs": []
    },
    {
      "cell_type": "markdown",
      "metadata": {
        "id": "8JhtLFp_Xtx_",
        "colab_type": "text"
      },
      "source": [
        "---\n",
        "# Part 5 - Stock Price Forecasting and Prediction"
      ]
    },
    {
      "cell_type": "markdown",
      "metadata": {
        "id": "BCBwmJMOXtyA",
        "colab_type": "text"
      },
      "source": [
        "#### Task 8:\n",
        "\n",
        "Some other predition model analysis?\n"
      ]
    },
    {
      "cell_type": "markdown",
      "metadata": {
        "id": "UTF7bCVZXtyB",
        "colab_type": "text"
      },
      "source": [
        "### To be Filled:\n",
        "\n",
        "* **Comments:**\n",
        "\n",
        "* **Codes:**\n",
        "\n",
        "* **Conclusion:**"
      ]
    },
    {
      "cell_type": "markdown",
      "metadata": {
        "id": "JSwLVi00XtyC",
        "colab_type": "text"
      },
      "source": [
        "---\n",
        "# Part 6 - Conclusion"
      ]
    },
    {
      "cell_type": "markdown",
      "metadata": {
        "id": "NubqBCwJXtyD",
        "colab_type": "text"
      },
      "source": [
        "### To be Filled:\n",
        "\n",
        "* **Conclusion:**"
      ]
    },
    {
      "cell_type": "markdown",
      "metadata": {
        "id": "UBSgPqdDXtyE",
        "colab_type": "text"
      },
      "source": [
        "## References"
      ]
    },
    {
      "cell_type": "markdown",
      "metadata": {
        "id": "Yjub0qoIXtyE",
        "colab_type": "text"
      },
      "source": [
        "### To be Filled:\n",
        "\n",
        "* **References:**"
      ]
    },
    {
      "cell_type": "code",
      "metadata": {
        "id": "MrNpgGeoXtyF",
        "colab_type": "code",
        "colab": {}
      },
      "source": [
        ""
      ],
      "execution_count": 0,
      "outputs": []
    }
  ]
}