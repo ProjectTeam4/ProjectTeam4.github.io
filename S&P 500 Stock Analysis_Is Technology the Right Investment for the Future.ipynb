{
 "cells": [
  {
   "cell_type": "markdown",
   "metadata": {},
   "source": [
    "---\n",
    "# S&P 500 Stock Analysis: Is Technology the Right Investment for the Future?"
   ]
  },
  {
   "cell_type": "markdown",
   "metadata": {},
   "source": [
    "---\n",
    "# Introduction"
   ]
  },
  {
   "cell_type": "markdown",
   "metadata": {},
   "source": [
    "The S&P 500 stock market index, maintained by S&P Dow Jones Indices, comprises 505 common stocks issued by 500 large-cap companies and traded on American exchanges, and covers about 80 percent of the American equity marekt by capitalization, i.e. S&P 500 is a stock market index that measures the stock performance of 500 large companies listed on stock exchanges in the United States. It is one of the most commonly followed equity indices, and many consider it to be one of the best representations of the U.S. stock market. The S&P 500 component stocks cover eleven (11) market sectors and a total of 128 sub industries. \n",
    "\n",
    "The objective of this project is to perform the U.S equity market/stocks analysis through the new technology: data science concepts, knowledge, and tools. The data analysis and calculation are based on Python software with modules: NumPy & Pandas, and matplotlib & seaborn libraries.\n",
    "\n",
    "This project consists of 6 parts.\n",
    "\n",
    "**feel free to modify**"
   ]
  },
  {
   "cell_type": "markdown",
   "metadata": {},
   "source": [
    "* Part 1 - S&P 500 stocks historical data collection and cleaning\n",
    "* Part 2 - Descriptive statistic analysis for S&P 500 stocks\n",
    "* Part 3 - Data analysis under stock/industry level\n",
    "* Part 4 - Coronavirus effect on S&P 500 stock prices\n",
    "* Part 5 - Stock price forecasting and prediction\n",
    "* Part 6 - Conclusion"
   ]
  },
  {
   "cell_type": "markdown",
   "metadata": {},
   "source": [
    "Each part is provided in a separate file. It is recommended to follow the order of the files."
   ]
  },
  {
   "cell_type": "markdown",
   "metadata": {},
   "source": [
    "---\n",
    "# Part 1: S&P 500 Stocks Historical Data Collection and Cleaning"
   ]
  },
  {
   "cell_type": "markdown",
   "metadata": {},
   "source": [
    "#### Task 1:\n",
    "\n",
    "Import raw data;\n",
    "\n",
    "Identify missing values, anomalies and outliers (Data cleaning);\n",
    "\n",
    "Merge datasets and resolve mismatches;\n",
    "\n",
    "---"
   ]
  },
  {
   "cell_type": "code",
   "execution_count": 1,
   "metadata": {},
   "outputs": [
    {
     "data": {
      "text/html": [
       "<div>\n",
       "<style scoped>\n",
       "    .dataframe tbody tr th:only-of-type {\n",
       "        vertical-align: middle;\n",
       "    }\n",
       "\n",
       "    .dataframe tbody tr th {\n",
       "        vertical-align: top;\n",
       "    }\n",
       "\n",
       "    .dataframe thead th {\n",
       "        text-align: right;\n",
       "    }\n",
       "</style>\n",
       "<table border=\"1\" class=\"dataframe\">\n",
       "  <thead>\n",
       "    <tr style=\"text-align: right;\">\n",
       "      <th></th>\n",
       "      <th>date</th>\n",
       "      <th>close</th>\n",
       "      <th>Name</th>\n",
       "      <th>ticker</th>\n",
       "      <th>company name</th>\n",
       "      <th>sector</th>\n",
       "    </tr>\n",
       "  </thead>\n",
       "  <tbody>\n",
       "    <tr>\n",
       "      <td>0</td>\n",
       "      <td>08-02-2013</td>\n",
       "      <td>14.75</td>\n",
       "      <td>AAL</td>\n",
       "      <td>AAL</td>\n",
       "      <td>American Airlines Group Inc.</td>\n",
       "      <td>Industrials</td>\n",
       "    </tr>\n",
       "    <tr>\n",
       "      <td>1</td>\n",
       "      <td>11-02-2013</td>\n",
       "      <td>14.46</td>\n",
       "      <td>AAL</td>\n",
       "      <td>AAL</td>\n",
       "      <td>American Airlines Group Inc.</td>\n",
       "      <td>Industrials</td>\n",
       "    </tr>\n",
       "    <tr>\n",
       "      <td>2</td>\n",
       "      <td>12-02-2013</td>\n",
       "      <td>14.27</td>\n",
       "      <td>AAL</td>\n",
       "      <td>AAL</td>\n",
       "      <td>American Airlines Group Inc.</td>\n",
       "      <td>Industrials</td>\n",
       "    </tr>\n",
       "    <tr>\n",
       "      <td>3</td>\n",
       "      <td>13-02-2013</td>\n",
       "      <td>14.66</td>\n",
       "      <td>AAL</td>\n",
       "      <td>AAL</td>\n",
       "      <td>American Airlines Group Inc.</td>\n",
       "      <td>Industrials</td>\n",
       "    </tr>\n",
       "    <tr>\n",
       "      <td>4</td>\n",
       "      <td>14-02-2013</td>\n",
       "      <td>13.99</td>\n",
       "      <td>AAL</td>\n",
       "      <td>AAL</td>\n",
       "      <td>American Airlines Group Inc.</td>\n",
       "      <td>Industrials</td>\n",
       "    </tr>\n",
       "  </tbody>\n",
       "</table>\n",
       "</div>"
      ],
      "text/plain": [
       "         date  close Name ticker                  company name       sector\n",
       "0  08-02-2013  14.75  AAL    AAL  American Airlines Group Inc.  Industrials\n",
       "1  11-02-2013  14.46  AAL    AAL  American Airlines Group Inc.  Industrials\n",
       "2  12-02-2013  14.27  AAL    AAL  American Airlines Group Inc.  Industrials\n",
       "3  13-02-2013  14.66  AAL    AAL  American Airlines Group Inc.  Industrials\n",
       "4  14-02-2013  13.99  AAL    AAL  American Airlines Group Inc.  Industrials"
      ]
     },
     "execution_count": 1,
     "metadata": {},
     "output_type": "execute_result"
    }
   ],
   "source": [
    "# Import and merge datasets\n",
    "\n",
    "import pandas as pd\n",
    "\n",
    "sp500 = pd.read_csv(\"https://raw.githubusercontent.com/ProjectTeam4/ProjectTeam4.github.io/master/stock%20data.csv\")\n",
    "stockReference = pd.read_csv(\"https://raw.githubusercontent.com/ProjectTeam4/ProjectTeam4.github.io/master/companies.csv\")\n",
    "\n",
    "fullDataset = pd.merge(sp500, stockReference, how=\"left\", left_on='Name', right_on='ticker')\n",
    "fullDataset = fullDataset[['date', 'close', 'Name', 'ticker', 'company name', 'sector']]\n",
    "fullDataset.head()"
   ]
  },
  {
   "cell_type": "code",
   "execution_count": 2,
   "metadata": {},
   "outputs": [
    {
     "name": "stdout",
     "output_type": "stream",
     "text": [
      "['AET' 'ANDV' 'CA' 'CBG' 'COL' 'CSRA' 'DPS' 'ESRX' 'EVHC' 'GGP' 'HCN'\n",
      " 'KORS' 'LUK' 'MON' 'PCLN' 'PX' 'SCG' 'SNI' 'TWX' 'WYN' 'XL']\n",
      "['08-02-2013' '11-02-2013' '12-02-2013' ... '05-02-2018' '06-02-2018'\n",
      " '07-02-2018']\n"
     ]
    }
   ],
   "source": [
    "# Identify Mismatches\n",
    "# Noticed that 21 stocks could not match to available reference information\n",
    "\n",
    "unmatchedData = fullDataset[fullDataset[\"ticker\"].isnull()]\n",
    "print(unmatchedData.Name.unique())\n",
    "print(unmatchedData.date.unique())"
   ]
  },
  {
   "cell_type": "code",
   "execution_count": 8,
   "metadata": {},
   "outputs": [
    {
     "name": "stdout",
     "output_type": "stream",
     "text": [
      "[]\n",
      "[]\n"
     ]
    }
   ],
   "source": [
    "# Resolve mismatch issue\n",
    "# Manually looked up \"Names\" and appended to stock reference file\n",
    "\n",
    "stockReference_v2 = pd.read_csv(\"https://raw.githubusercontent.com/ProjectTeam4/ProjectTeam4.github.io/master/companies_updated.csv\")\n",
    "\n",
    "fullDataset_v2 = pd.merge(sp500, stockReference_v2, how=\"left\", left_on='Name', right_on='ticker')\n",
    "fullDataset_v2 = fullDataset_v2[['date', 'close', 'Name', 'ticker', 'company name', 'sector']]\n",
    "\n",
    "unmatchedData_v2 = fullDataset_v2[fullDataset_v2[\"ticker\"].isnull()]\n",
    "print(unmatchedData_v2.Name.unique())\n",
    "print(unmatchedData_v2.date.unique())"
   ]
  },
  {
   "cell_type": "code",
   "execution_count": 9,
   "metadata": {},
   "outputs": [
    {
     "data": {
      "text/html": [
       "<div>\n",
       "<style scoped>\n",
       "    .dataframe tbody tr th:only-of-type {\n",
       "        vertical-align: middle;\n",
       "    }\n",
       "\n",
       "    .dataframe tbody tr th {\n",
       "        vertical-align: top;\n",
       "    }\n",
       "\n",
       "    .dataframe thead th {\n",
       "        text-align: right;\n",
       "    }\n",
       "</style>\n",
       "<table border=\"1\" class=\"dataframe\">\n",
       "  <thead>\n",
       "    <tr style=\"text-align: right;\">\n",
       "      <th></th>\n",
       "      <th>close</th>\n",
       "      <th>Name</th>\n",
       "      <th>ticker</th>\n",
       "      <th>company name</th>\n",
       "      <th>sector</th>\n",
       "    </tr>\n",
       "    <tr>\n",
       "      <th>date</th>\n",
       "      <th></th>\n",
       "      <th></th>\n",
       "      <th></th>\n",
       "      <th></th>\n",
       "      <th></th>\n",
       "    </tr>\n",
       "  </thead>\n",
       "  <tbody>\n",
       "    <tr>\n",
       "      <td>26-04-2013</td>\n",
       "      <td>472</td>\n",
       "      <td>472</td>\n",
       "      <td>472</td>\n",
       "      <td>472</td>\n",
       "      <td>472</td>\n",
       "    </tr>\n",
       "    <tr>\n",
       "      <td>22-04-2013</td>\n",
       "      <td>476</td>\n",
       "      <td>476</td>\n",
       "      <td>476</td>\n",
       "      <td>476</td>\n",
       "      <td>476</td>\n",
       "    </tr>\n",
       "    <tr>\n",
       "      <td>02-05-2013</td>\n",
       "      <td>476</td>\n",
       "      <td>476</td>\n",
       "      <td>476</td>\n",
       "      <td>476</td>\n",
       "      <td>476</td>\n",
       "    </tr>\n",
       "    <tr>\n",
       "      <td>15-04-2013</td>\n",
       "      <td>476</td>\n",
       "      <td>476</td>\n",
       "      <td>476</td>\n",
       "      <td>476</td>\n",
       "      <td>476</td>\n",
       "    </tr>\n",
       "    <tr>\n",
       "      <td>04-03-2013</td>\n",
       "      <td>476</td>\n",
       "      <td>476</td>\n",
       "      <td>476</td>\n",
       "      <td>476</td>\n",
       "      <td>476</td>\n",
       "    </tr>\n",
       "    <tr>\n",
       "      <td>...</td>\n",
       "      <td>...</td>\n",
       "      <td>...</td>\n",
       "      <td>...</td>\n",
       "      <td>...</td>\n",
       "      <td>...</td>\n",
       "    </tr>\n",
       "    <tr>\n",
       "      <td>11-01-2018</td>\n",
       "      <td>505</td>\n",
       "      <td>505</td>\n",
       "      <td>505</td>\n",
       "      <td>505</td>\n",
       "      <td>505</td>\n",
       "    </tr>\n",
       "    <tr>\n",
       "      <td>29-01-2018</td>\n",
       "      <td>505</td>\n",
       "      <td>505</td>\n",
       "      <td>505</td>\n",
       "      <td>505</td>\n",
       "      <td>505</td>\n",
       "    </tr>\n",
       "    <tr>\n",
       "      <td>05-12-2017</td>\n",
       "      <td>505</td>\n",
       "      <td>505</td>\n",
       "      <td>505</td>\n",
       "      <td>505</td>\n",
       "      <td>505</td>\n",
       "    </tr>\n",
       "    <tr>\n",
       "      <td>20-12-2017</td>\n",
       "      <td>505</td>\n",
       "      <td>505</td>\n",
       "      <td>505</td>\n",
       "      <td>505</td>\n",
       "      <td>505</td>\n",
       "    </tr>\n",
       "    <tr>\n",
       "      <td>22-12-2017</td>\n",
       "      <td>505</td>\n",
       "      <td>505</td>\n",
       "      <td>505</td>\n",
       "      <td>505</td>\n",
       "      <td>505</td>\n",
       "    </tr>\n",
       "  </tbody>\n",
       "</table>\n",
       "<p>1259 rows × 5 columns</p>\n",
       "</div>"
      ],
      "text/plain": [
       "            close  Name  ticker  company name  sector\n",
       "date                                                 \n",
       "26-04-2013    472   472     472           472     472\n",
       "22-04-2013    476   476     476           476     476\n",
       "02-05-2013    476   476     476           476     476\n",
       "15-04-2013    476   476     476           476     476\n",
       "04-03-2013    476   476     476           476     476\n",
       "...           ...   ...     ...           ...     ...\n",
       "11-01-2018    505   505     505           505     505\n",
       "29-01-2018    505   505     505           505     505\n",
       "05-12-2017    505   505     505           505     505\n",
       "20-12-2017    505   505     505           505     505\n",
       "22-12-2017    505   505     505           505     505\n",
       "\n",
       "[1259 rows x 5 columns]"
      ]
     },
     "execution_count": 9,
     "metadata": {},
     "output_type": "execute_result"
    }
   ],
   "source": [
    "# Identify Inconsistencies\n",
    "# Noticed that the list of stocks were captured based on date of data pull and does not populate historical information for\n",
    "# stocks that fell out of SP500 between the start date to last date\n",
    "\n",
    "countByDate = fullDataset_v2.groupby('date').count()\n",
    "countByDate.sort_values(by=['sector'], ascending=True)"
   ]
  },
  {
   "cell_type": "code",
   "execution_count": 10,
   "metadata": {},
   "outputs": [],
   "source": [
    "# Resolve inconsistency issue\n"
   ]
  },
  {
   "cell_type": "code",
   "execution_count": 11,
   "metadata": {},
   "outputs": [
    {
     "data": {
      "text/html": [
       "<div>\n",
       "<style scoped>\n",
       "    .dataframe tbody tr th:only-of-type {\n",
       "        vertical-align: middle;\n",
       "    }\n",
       "\n",
       "    .dataframe tbody tr th {\n",
       "        vertical-align: top;\n",
       "    }\n",
       "\n",
       "    .dataframe thead th {\n",
       "        text-align: right;\n",
       "    }\n",
       "</style>\n",
       "<table border=\"1\" class=\"dataframe\">\n",
       "  <thead>\n",
       "    <tr style=\"text-align: right;\">\n",
       "      <th></th>\n",
       "      <th>date</th>\n",
       "      <th>close</th>\n",
       "      <th>ticker</th>\n",
       "      <th>company name</th>\n",
       "      <th>sector</th>\n",
       "    </tr>\n",
       "  </thead>\n",
       "  <tbody>\n",
       "    <tr>\n",
       "      <td>0</td>\n",
       "      <td>08-02-2013</td>\n",
       "      <td>14.75</td>\n",
       "      <td>AAL</td>\n",
       "      <td>American Airlines Group Inc.</td>\n",
       "      <td>Industrials</td>\n",
       "    </tr>\n",
       "    <tr>\n",
       "      <td>1</td>\n",
       "      <td>11-02-2013</td>\n",
       "      <td>14.46</td>\n",
       "      <td>AAL</td>\n",
       "      <td>American Airlines Group Inc.</td>\n",
       "      <td>Industrials</td>\n",
       "    </tr>\n",
       "    <tr>\n",
       "      <td>2</td>\n",
       "      <td>12-02-2013</td>\n",
       "      <td>14.27</td>\n",
       "      <td>AAL</td>\n",
       "      <td>American Airlines Group Inc.</td>\n",
       "      <td>Industrials</td>\n",
       "    </tr>\n",
       "    <tr>\n",
       "      <td>3</td>\n",
       "      <td>13-02-2013</td>\n",
       "      <td>14.66</td>\n",
       "      <td>AAL</td>\n",
       "      <td>American Airlines Group Inc.</td>\n",
       "      <td>Industrials</td>\n",
       "    </tr>\n",
       "    <tr>\n",
       "      <td>4</td>\n",
       "      <td>14-02-2013</td>\n",
       "      <td>13.99</td>\n",
       "      <td>AAL</td>\n",
       "      <td>American Airlines Group Inc.</td>\n",
       "      <td>Industrials</td>\n",
       "    </tr>\n",
       "  </tbody>\n",
       "</table>\n",
       "</div>"
      ],
      "text/plain": [
       "         date  close ticker                  company name       sector\n",
       "0  08-02-2013  14.75    AAL  American Airlines Group Inc.  Industrials\n",
       "1  11-02-2013  14.46    AAL  American Airlines Group Inc.  Industrials\n",
       "2  12-02-2013  14.27    AAL  American Airlines Group Inc.  Industrials\n",
       "3  13-02-2013  14.66    AAL  American Airlines Group Inc.  Industrials\n",
       "4  14-02-2013  13.99    AAL  American Airlines Group Inc.  Industrials"
      ]
     },
     "execution_count": 11,
     "metadata": {},
     "output_type": "execute_result"
    }
   ],
   "source": [
    "# Compile final dataset for analysis\n",
    "\n",
    "cleanDataset = fullDataset_v2[['date', 'close', 'ticker', 'company name', 'sector']]\n",
    "cleanDataset.head()"
   ]
  },
  {
   "cell_type": "markdown",
   "metadata": {},
   "source": [
    "#### Conclusion:\n",
    "\n",
    "We found issues with data we have gathered. We filled in the gaps where we can and left data as is for things we cannot change \n",
    "with current resources\n"
   ]
  },
  {
   "cell_type": "markdown",
   "metadata": {},
   "source": [
    "---\n",
    "# Part 2 - Descriptive Statistic Analysis for S&P 500 Stocks"
   ]
  },
  {
   "cell_type": "markdown",
   "metadata": {},
   "source": [
    "#### Task 2:\n",
    "\n",
    "Perform descriptive analysis;\n",
    "\n",
    "first question: how has the composition of stocks by industry changed over time?\n",
    "\n",
    "Calculate and graph stock composition by industry over time;"
   ]
  },
  {
   "cell_type": "markdown",
   "metadata": {},
   "source": [
    "### To be Filled:\n",
    "\n",
    "* **Comments:**\n",
    "\n",
    "* **Codes:**\n",
    "\n",
    "* **Conclusion:**"
   ]
  },
  {
   "cell_type": "code",
   "execution_count": 18,
   "metadata": {},
   "outputs": [],
   "source": [
    "# grouping data by industry\n",
    "fullDataset_grouped = fullDataset.groupby('industry')"
   ]
  },
  {
   "cell_type": "markdown",
   "metadata": {},
   "source": [
    "---\n",
    "# Part 3 - Data Analysis under Stock/Industry Level"
   ]
  },
  {
   "cell_type": "markdown",
   "metadata": {},
   "source": [
    "#### Task 3: \n",
    "\n",
    "Second question: What are the daily and monthly price changes at individual stock and industry level? (Sector Level) \n",
    "\n",
    "Calculate daily and monthly price changes by industry and determine distribution of standard deviation\n",
    "\n",
    "#### Task 4: \n",
    "\n",
    "Third question:If we are to select a stock by industry at random, what are the chances that it has positive return?\n",
    "\n",
    "Calculate percentage of stocks with positive return by industry over time.\n",
    "\n",
    "Which industry should we invest in for the most return? \n",
    "\n",
    "If we pick the top 5 expensive stock in this industry, what is the monthly return over the period for these 5 stocks? \n",
    "\n",
    "Is there any Seasonality for the monthend close price? \n",
    "\n",
    "Is there autocorrelation of the monthend close prices of each of the 5 stocks? \n",
    "\n",
    "Visualize the correlation between the returns of all pairs of stocks.\n",
    "\n",
    "#### Task 5:\n",
    "\n",
    "Fourth question: Is there a linear correlation between volatility of prices to overall return?\n",
    "\n",
    "Calculate correlation of stock returns to price volatility by industry over time.\n",
    "\n",
    "#### Task 6:\n",
    "\n",
    "Fifth question:Is there a correlation between days of loss until a day of positive return?\n",
    "\n",
    "Calculate days of loss until positive return and chi square of dataset to determine if they are dependent\n",
    "\n",
    "#### Task 8: \n",
    "\n",
    "Seventh question: Is there seasonality in the data? (sector level does Sector perform welll during certain period)\n",
    "\n",
    "Find seasonality effect using lag plot or autocorrelation functions.\n"
   ]
  },
  {
   "cell_type": "markdown",
   "metadata": {},
   "source": [
    "### To be Filled:\n",
    "\n",
    "* **Comments:**\n",
    "\n",
    "* **Codes:**\n",
    "\n",
    "* **Conclusion:**"
   ]
  },
  {
   "cell_type": "markdown",
   "metadata": {},
   "source": [
    "---\n",
    "# Part 4 - Coronavirus Effect on S&P 500 Stock Prices"
   ]
  },
  {
   "cell_type": "markdown",
   "metadata": {},
   "source": [
    "#### Task 7:\n",
    "\n",
    "Sixth question: Can we measure or see the coronavirus effect on S&P 500 stock prices?\n",
    "\n",
    "Find the coronavirus start date from the \"https://github.com/CSSEGISandData/COVID-19\" source, prepare trend analysis or graphs and compare it with previous periods. (Jan- Now） ( Compare with previous year) \n"
   ]
  },
  {
   "cell_type": "markdown",
   "metadata": {},
   "source": [
    "### To be Filled:\n",
    "\n",
    "* **Comments:**\n",
    "\n",
    "* **Codes:**\n",
    "\n",
    "* **Conclusion:**"
   ]
  },
  {
   "cell_type": "code",
   "execution_count": null,
   "metadata": {},
   "outputs": [],
   "source": []
  },
  {
   "cell_type": "markdown",
   "metadata": {},
   "source": [
    "---\n",
    "# Part 5 - Stock Price Forecasting and Prediction"
   ]
  },
  {
   "cell_type": "markdown",
   "metadata": {},
   "source": [
    "#### Task 8:\n",
    "\n",
    "Some other predition model analysis?\n"
   ]
  },
  {
   "cell_type": "markdown",
   "metadata": {},
   "source": [
    "### To be Filled:\n",
    "\n",
    "* **Comments:**\n",
    "\n",
    "* **Codes:**\n",
    "\n",
    "* **Conclusion:**"
   ]
  },
  {
   "cell_type": "markdown",
   "metadata": {},
   "source": [
    "---\n",
    "# Part 6 - Conclusion"
   ]
  },
  {
   "cell_type": "markdown",
   "metadata": {},
   "source": [
    "### To be Filled:\n",
    "\n",
    "* **Conclusion:**"
   ]
  },
  {
   "cell_type": "markdown",
   "metadata": {},
   "source": [
    "## References"
   ]
  },
  {
   "cell_type": "markdown",
   "metadata": {},
   "source": [
    "### To be Filled:\n",
    "\n",
    "* **References:**"
   ]
  },
  {
   "cell_type": "code",
   "execution_count": null,
   "metadata": {},
   "outputs": [],
   "source": []
  }
 ],
 "metadata": {
  "kernelspec": {
   "display_name": "Python 3",
   "language": "python",
   "name": "python3"
  },
  "language_info": {
   "codemirror_mode": {
    "name": "ipython",
    "version": 3
   },
   "file_extension": ".py",
   "mimetype": "text/x-python",
   "name": "python",
   "nbconvert_exporter": "python",
   "pygments_lexer": "ipython3",
   "version": "3.7.4"
  },
  "latex_envs": {
   "LaTeX_envs_menu_present": true,
   "autoclose": false,
   "autocomplete": true,
   "bibliofile": "biblio.bib",
   "cite_by": "apalike",
   "current_citInitial": 1,
   "eqLabelWithNumbers": true,
   "eqNumInitial": 1,
   "hotkeys": {
    "equation": "Ctrl-E",
    "itemize": "Ctrl-I"
   },
   "labels_anchors": false,
   "latex_user_defs": false,
   "report_style_numbering": false,
   "user_envs_cfg": false
  },
  "nbTranslate": {
   "displayLangs": [
    "*"
   ],
   "hotkey": "alt-t",
   "langInMainMenu": true,
   "sourceLang": "en",
   "targetLang": "fr",
   "useGoogleTranslate": true
  },
  "toc": {
   "base_numbering": 1,
   "nav_menu": {},
   "number_sections": true,
   "sideBar": true,
   "skip_h1_title": true,
   "title_cell": "Table of Contents",
   "title_sidebar": "Contents",
   "toc_cell": false,
   "toc_position": {
    "height": "calc(100% - 180px)",
    "left": "10px",
    "top": "150px",
    "width": "362px"
   },
   "toc_section_display": true,
   "toc_window_display": false
  },
  "varInspector": {
   "cols": {
    "lenName": 16,
    "lenType": 16,
    "lenVar": 40
   },
   "kernels_config": {
    "python": {
     "delete_cmd_postfix": "",
     "delete_cmd_prefix": "del ",
     "library": "var_list.py",
     "varRefreshCmd": "print(var_dic_list())"
    },
    "r": {
     "delete_cmd_postfix": ") ",
     "delete_cmd_prefix": "rm(",
     "library": "var_list.r",
     "varRefreshCmd": "cat(var_dic_list()) "
    }
   },
   "types_to_exclude": [
    "module",
    "function",
    "builtin_function_or_method",
    "instance",
    "_Feature"
   ],
   "window_display": false
  }
 },
 "nbformat": 4,
 "nbformat_minor": 2
}
