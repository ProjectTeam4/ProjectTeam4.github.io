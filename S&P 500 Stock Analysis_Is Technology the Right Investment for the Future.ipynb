{
 "cells": [
  {
   "cell_type": "markdown",
   "metadata": {},
   "source": [
    "---\n",
    "# S&P 500 Stock Analysis: Is Technology the Right Investment for the Future?"
   ]
  },
  {
   "cell_type": "markdown",
   "metadata": {},
   "source": [
    "---\n",
    "# Introduction"
   ]
  },
  {
   "cell_type": "markdown",
   "metadata": {},
   "source": [
    "The S&P 500 stock market index, maintained by S&P Dow Jones Indices, comprises 505 common stocks issued by 500 large-cap companies and traded on American exchanges, and covers about 80 percent of the American equity marekt by capitalization, i.e. S&P 500 is a stock market index that measures the stock performance of 500 large companies listed on stock exchanges in the United States. It is one of the most commonly followed equity indices, and many consider it to be one of the best representations of the U.S. stock market. The S&P 500 component stocks cover eleven (11) marekt sectors and a total of 128 sub indutries. \n",
    "\n",
    "The objective of this project is to perform the U.S equity market/stocks analysis through the new technology: data science concepts, knowledge, and tools. The data analysis and calculation are based on Python software with modules: NumPy & Pandas, and matplotlib & seaborn libraries.\n",
    "\n",
    "This project consists of 6 parts.\n",
    "\n",
    "**feel free to modify**"
   ]
  },
  {
   "cell_type": "markdown",
   "metadata": {},
   "source": [
    "* Part 1 - S&P 500 stocks historical data collection and cleaning\n",
    "* Part 2 - Descriptive statistic analysis for S&P 500 stocks\n",
    "* Part 3 - Data analysis under stock/industry level\n",
    "* Part 4 - Coronavirus effect on S&P 500 stock prices\n",
    "* Part 5 - Stock price forecasting and prediction\n",
    "* Part 6 - Conclusion"
   ]
  },
  {
   "cell_type": "markdown",
   "metadata": {},
   "source": [
    "Each part is provided in a separate file. It is recommended to follow the order of the files."
   ]
  },
  {
   "cell_type": "markdown",
   "metadata": {},
   "source": [
    "---\n",
    "# Part 1: S&P 500 Stocks Historical Data Collection and Cleaning"
   ]
  },
  {
   "cell_type": "markdown",
   "metadata": {},
   "source": [
    "#### Task 1:\n",
    "\n",
    "Import raw data;\n",
    "\n",
    "Identify missing values, anomalies and outliers (Data cleaning);\n",
    "\n",
    "Merge datasets and resolve mismatches;"
   ]
  },
  {
   "cell_type": "markdown",
   "metadata": {},
   "source": [
    "### To be Filled:\n",
    "\n",
    "* **Comments:**\n",
    "\n",
    "* **Codes:**\n",
    "\n",
    "* **Conclusion:**"
   ]
  },
  {
   "cell_type": "markdown",
   "metadata": {},
   "source": [
    "---\n",
    "# Part 2 - Descriptive Statistic Analysis for S&P 500 Stocks"
   ]
  },
  {
   "cell_type": "markdown",
   "metadata": {},
   "source": [
    "#### Task 2:\n",
    "\n",
    "Perform descriptive analysis;\n",
    "\n",
    "first question: how has the composition of stocks by industry changed over time?\n",
    "\n",
    "Calculate and graph stock composition by industry over time;"
   ]
  },
  {
   "cell_type": "markdown",
   "metadata": {},
   "source": [
    "### To be Filled:\n",
    "\n",
    "* **Comments:**\n",
    "\n",
    "* **Codes:**\n",
    "\n",
    "* **Conclusion:**"
   ]
  },
  {
   "cell_type": "markdown",
   "metadata": {},
   "source": [
    "---\n",
    "# Part 3 - Data Analysis under Stock/Industry Level"
   ]
  },
  {
   "cell_type": "markdown",
   "metadata": {},
   "source": [
    "#### Task 3: \n",
    "\n",
    "Second question: What are the daily and monthly price changes at individual stock and industry level? (Sector Level) \n",
    "\n",
    "Calculate daily and monthly price changes by industry and determine distribution of standard deviation\n",
    "\n",
    "#### Task 4: \n",
    "\n",
    "Third question:If we are to select a stock by industry at random, what are the chances that it has positive return?\n",
    "\n",
    "Calculate percentage of stocks with positive return by industry over time.\n",
    "\n",
    "Which industry should we invest in for the most return? \n",
    "\n",
    "If we pick the top 5 expensive stock in this industry, what is the monthly return over the period for these 5 stocks? \n",
    "\n",
    "Is there any Seasonality for the monthend close price? \n",
    "\n",
    "Is there autocorrelation of the monthend close prices of each of the 5 stocks? \n",
    "\n",
    "Visualize the correlation between the returns of all pairs of stocks.\n",
    "\n",
    "#### Task 5:\n",
    "\n",
    "Fourth question: Is there a linear correlation between volatility of prices to overall return?\n",
    "\n",
    "Calculate correlation of stock returns to price volatility by industry over time.\n",
    "\n",
    "#### Task 6:\n",
    "\n",
    "Fifth question:Is there a correlation between days of loss until a day of positive return?\n",
    "\n",
    "Calculate days of loss until positive return and chi square of dataset to determine if they are dependent\n",
    "\n",
    "#### Task 8: \n",
    "\n",
    "Seventh question: Is there seasonality in the data? (sector level does Sector perform welll during certain period)\n",
    "\n",
    "Find seasonality effect using lag plot or autocorrelation functions.\n"
   ]
  },
  {
   "cell_type": "markdown",
   "metadata": {},
   "source": [
    "### To be Filled:\n",
    "\n",
    "* **Comments:**\n",
    "\n",
    "* **Codes:**\n",
    "\n",
    "* **Conclusion:**"
   ]
  },
  {
   "cell_type": "markdown",
   "metadata": {},
   "source": [
    "---\n",
    "# Part 4 - Coronavirus Effect on S&P 500 Stock Prices"
   ]
  },
  {
   "cell_type": "markdown",
   "metadata": {},
   "source": [
    "#### Task 7:\n",
    "\n",
    "Sixth question: Can we measure or see the coronavirus effect on S&P 500 stock prices?\n",
    "\n",
    "Find the coronavirus start date from the \"https://github.com/CSSEGISandData/COVID-19\" source, prepare trend analysis or graphs and compare it with previous periods. (Jan- Now） ( Compare with previous year) \n"
   ]
  },
  {
   "cell_type": "markdown",
   "metadata": {},
   "source": [
    "### To be Filled:\n",
    "\n",
    "* **Comments:**\n",
    "\n",
    "* **Codes:**\n",
    "\n",
    "* **Conclusion:**"
   ]
  },
  {
   "cell_type": "markdown",
   "metadata": {},
   "source": [
    "---\n",
    "# Part 5 - Stock Price Forecasting and Prediction"
   ]
  },
  {
   "cell_type": "markdown",
   "metadata": {},
   "source": [
    "#### Task 8:\n",
    "\n",
    "Some other predition model analysis?\n"
   ]
  },
  {
   "cell_type": "markdown",
   "metadata": {},
   "source": [
    "### To be Filled:\n",
    "\n",
    "* **Comments:**\n",
    "\n",
    "* **Codes:**\n",
    "\n",
    "* **Conclusion:**"
   ]
  },
  {
   "cell_type": "markdown",
   "metadata": {},
   "source": [
    "---\n",
    "# Part 6 - Conclusion"
   ]
  },
  {
   "cell_type": "markdown",
   "metadata": {},
   "source": [
    "### To be Filled:\n",
    "\n",
    "* **Conclusion:**"
   ]
  },
  {
   "cell_type": "markdown",
   "metadata": {},
   "source": [
    "## References"
   ]
  },
  {
   "cell_type": "markdown",
   "metadata": {},
   "source": [
    "### To be Filled:\n",
    "\n",
    "* **References:**"
   ]
  },
  {
   "cell_type": "code",
   "execution_count": null,
   "metadata": {},
   "outputs": [],
   "source": []
  }
 ],
 "metadata": {
  "kernelspec": {
   "display_name": "Python 3",
   "language": "python",
   "name": "python3"
  },
  "language_info": {
   "codemirror_mode": {
    "name": "ipython",
    "version": 3
   },
   "file_extension": ".py",
   "mimetype": "text/x-python",
   "name": "python",
   "nbconvert_exporter": "python",
   "pygments_lexer": "ipython3",
   "version": "3.7.4"
  },
  "latex_envs": {
   "LaTeX_envs_menu_present": true,
   "autoclose": false,
   "autocomplete": true,
   "bibliofile": "biblio.bib",
   "cite_by": "apalike",
   "current_citInitial": 1,
   "eqLabelWithNumbers": true,
   "eqNumInitial": 1,
   "hotkeys": {
    "equation": "Ctrl-E",
    "itemize": "Ctrl-I"
   },
   "labels_anchors": false,
   "latex_user_defs": false,
   "report_style_numbering": false,
   "user_envs_cfg": false
  },
  "nbTranslate": {
   "displayLangs": [
    "*"
   ],
   "hotkey": "alt-t",
   "langInMainMenu": true,
   "sourceLang": "en",
   "targetLang": "fr",
   "useGoogleTranslate": true
  },
  "toc": {
   "base_numbering": 1,
   "nav_menu": {},
   "number_sections": true,
   "sideBar": true,
   "skip_h1_title": true,
   "title_cell": "Table of Contents",
   "title_sidebar": "Contents",
   "toc_cell": false,
   "toc_position": {
    "height": "calc(100% - 180px)",
    "left": "10px",
    "top": "150px",
    "width": "362px"
   },
   "toc_section_display": true,
   "toc_window_display": false
  },
  "varInspector": {
   "cols": {
    "lenName": 16,
    "lenType": 16,
    "lenVar": 40
   },
   "kernels_config": {
    "python": {
     "delete_cmd_postfix": "",
     "delete_cmd_prefix": "del ",
     "library": "var_list.py",
     "varRefreshCmd": "print(var_dic_list())"
    },
    "r": {
     "delete_cmd_postfix": ") ",
     "delete_cmd_prefix": "rm(",
     "library": "var_list.r",
     "varRefreshCmd": "cat(var_dic_list()) "
    }
   },
   "types_to_exclude": [
    "module",
    "function",
    "builtin_function_or_method",
    "instance",
    "_Feature"
   ],
   "window_display": false
  }
 },
 "nbformat": 4,
 "nbformat_minor": 2
}
